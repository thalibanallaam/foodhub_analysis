{
 "cells": [
  {
   "cell_type": "markdown",
   "metadata": {},
   "source": [
    "# **Foodhub Transaction Analysis**"
   ]
  },
  {
   "cell_type": "markdown",
   "metadata": {},
   "source": [
    "## **1. Introduction**"
   ]
  },
  {
   "cell_type": "markdown",
   "metadata": {},
   "source": [
    "- **Name**: Thaliban Allaam\n",
    "- **Batch**: HCK - 025\n",
    "\n",
    "**Objective**: Analyze Foodhub's transaction data to get a comprehensive understanding of the business.\n",
    "\n",
    "**Dashboard:** https://public.tableau.com/views/M1_ThalibanAllaam/Main?:language=en-US&publish=yes&:sid=&:redirect=auth&:display_count=n&:origin=viz_share_link"
   ]
  },
  {
   "cell_type": "markdown",
   "metadata": {},
   "source": [
    "## **2. Problem Identification**"
   ]
  },
  {
   "cell_type": "markdown",
   "metadata": {},
   "source": [
    "### **Backgorund**"
   ]
  },
  {
   "cell_type": "markdown",
   "metadata": {},
   "source": [
    "The number of restaurants in New York is increasing day by day. Lots of students and busy professionals rely on those restaurants due to their hectic lifestyles. Online food delivery service is a great option for them. It provides them with good food from their favorite restaurants. A food aggregator company FoodHub offers access to multiple restaurants through a single smartphone app."
   ]
  },
  {
   "cell_type": "markdown",
   "metadata": {},
   "source": [
    "The dataset used in this project contains the transaction data of Foodhub. From the dataset, we're trying to analyze the data and try to find patterns and find aspects that we can improve in the future."
   ]
  },
  {
   "cell_type": "markdown",
   "metadata": {},
   "source": [
    "## **3. Data Loading**"
   ]
  },
  {
   "cell_type": "markdown",
   "metadata": {},
   "source": [
    "The dataset to be analyzed is titled \"NYC Restaurants Data - Food Ordering and Delivery.\" This dataset is sourced from Kaggle. It features data related to ordering activities that take place in New York City. The dataset includes information such as customer ID, restaurant name, restaurant type, price per order, preparation time, delivery time, and ratings.\n",
    "\n",
    "**Source**: https://www.kaggle.com/datasets/ahsan81/food-ordering-and-delivery-app-dataset/code"
   ]
  },
  {
   "cell_type": "markdown",
   "metadata": {},
   "source": [
    "### **Initialization**"
   ]
  },
  {
   "cell_type": "markdown",
   "metadata": {},
   "source": [
    "Initialize libraries needed."
   ]
  },
  {
   "cell_type": "code",
   "execution_count": 91,
   "metadata": {},
   "outputs": [],
   "source": [
    "'''Data Processing'''\n",
    "import pandas as pd \n",
    "from scipy import stats \n",
    "\n",
    "'''Data Visualization'''\n",
    "import matplotlib.pyplot as plt \n",
    "import seaborn as sns"
   ]
  },
  {
   "cell_type": "markdown",
   "metadata": {},
   "source": [
    "Load the dataset using `read_csv()` method from pandas and saving it as a `df` dataframe."
   ]
  },
  {
   "cell_type": "code",
   "execution_count": 92,
   "metadata": {},
   "outputs": [],
   "source": [
    "df = pd.read_csv('food_order.csv')"
   ]
  },
  {
   "cell_type": "markdown",
   "metadata": {},
   "source": [
    "### **Dataframe**"
   ]
  },
  {
   "cell_type": "markdown",
   "metadata": {},
   "source": [
    "Showing the dataset overview."
   ]
  },
  {
   "cell_type": "code",
   "execution_count": 93,
   "metadata": {},
   "outputs": [
    {
     "data": {
      "text/html": [
       "<div>\n",
       "<style scoped>\n",
       "    .dataframe tbody tr th:only-of-type {\n",
       "        vertical-align: middle;\n",
       "    }\n",
       "\n",
       "    .dataframe tbody tr th {\n",
       "        vertical-align: top;\n",
       "    }\n",
       "\n",
       "    .dataframe thead th {\n",
       "        text-align: right;\n",
       "    }\n",
       "</style>\n",
       "<table border=\"1\" class=\"dataframe\">\n",
       "  <thead>\n",
       "    <tr style=\"text-align: right;\">\n",
       "      <th></th>\n",
       "      <th>order_id</th>\n",
       "      <th>customer_id</th>\n",
       "      <th>restaurant_name</th>\n",
       "      <th>cuisine_type</th>\n",
       "      <th>cost_of_the_order</th>\n",
       "      <th>day_of_the_week</th>\n",
       "      <th>rating</th>\n",
       "      <th>food_preparation_time</th>\n",
       "      <th>delivery_time</th>\n",
       "    </tr>\n",
       "  </thead>\n",
       "  <tbody>\n",
       "    <tr>\n",
       "      <th>0</th>\n",
       "      <td>1477147</td>\n",
       "      <td>337525</td>\n",
       "      <td>Hangawi</td>\n",
       "      <td>Korean</td>\n",
       "      <td>30.75</td>\n",
       "      <td>Weekend</td>\n",
       "      <td>Not given</td>\n",
       "      <td>25</td>\n",
       "      <td>20</td>\n",
       "    </tr>\n",
       "    <tr>\n",
       "      <th>1</th>\n",
       "      <td>1477685</td>\n",
       "      <td>358141</td>\n",
       "      <td>Blue Ribbon Sushi Izakaya</td>\n",
       "      <td>Japanese</td>\n",
       "      <td>12.08</td>\n",
       "      <td>Weekend</td>\n",
       "      <td>Not given</td>\n",
       "      <td>25</td>\n",
       "      <td>23</td>\n",
       "    </tr>\n",
       "    <tr>\n",
       "      <th>2</th>\n",
       "      <td>1477070</td>\n",
       "      <td>66393</td>\n",
       "      <td>Cafe Habana</td>\n",
       "      <td>Mexican</td>\n",
       "      <td>12.23</td>\n",
       "      <td>Weekday</td>\n",
       "      <td>5</td>\n",
       "      <td>23</td>\n",
       "      <td>28</td>\n",
       "    </tr>\n",
       "    <tr>\n",
       "      <th>3</th>\n",
       "      <td>1477334</td>\n",
       "      <td>106968</td>\n",
       "      <td>Blue Ribbon Fried Chicken</td>\n",
       "      <td>American</td>\n",
       "      <td>29.20</td>\n",
       "      <td>Weekend</td>\n",
       "      <td>3</td>\n",
       "      <td>25</td>\n",
       "      <td>15</td>\n",
       "    </tr>\n",
       "    <tr>\n",
       "      <th>4</th>\n",
       "      <td>1478249</td>\n",
       "      <td>76942</td>\n",
       "      <td>Dirty Bird to Go</td>\n",
       "      <td>American</td>\n",
       "      <td>11.59</td>\n",
       "      <td>Weekday</td>\n",
       "      <td>4</td>\n",
       "      <td>25</td>\n",
       "      <td>24</td>\n",
       "    </tr>\n",
       "    <tr>\n",
       "      <th>5</th>\n",
       "      <td>1477224</td>\n",
       "      <td>147468</td>\n",
       "      <td>Tamarind TriBeCa</td>\n",
       "      <td>Indian</td>\n",
       "      <td>25.22</td>\n",
       "      <td>Weekday</td>\n",
       "      <td>3</td>\n",
       "      <td>20</td>\n",
       "      <td>24</td>\n",
       "    </tr>\n",
       "    <tr>\n",
       "      <th>6</th>\n",
       "      <td>1477894</td>\n",
       "      <td>157711</td>\n",
       "      <td>The Meatball Shop</td>\n",
       "      <td>Italian</td>\n",
       "      <td>6.07</td>\n",
       "      <td>Weekend</td>\n",
       "      <td>Not given</td>\n",
       "      <td>28</td>\n",
       "      <td>21</td>\n",
       "    </tr>\n",
       "    <tr>\n",
       "      <th>7</th>\n",
       "      <td>1477859</td>\n",
       "      <td>89574</td>\n",
       "      <td>Barbounia</td>\n",
       "      <td>Mediterranean</td>\n",
       "      <td>5.97</td>\n",
       "      <td>Weekday</td>\n",
       "      <td>3</td>\n",
       "      <td>33</td>\n",
       "      <td>30</td>\n",
       "    </tr>\n",
       "    <tr>\n",
       "      <th>8</th>\n",
       "      <td>1477174</td>\n",
       "      <td>121706</td>\n",
       "      <td>Anjappar Chettinad</td>\n",
       "      <td>Indian</td>\n",
       "      <td>16.44</td>\n",
       "      <td>Weekday</td>\n",
       "      <td>5</td>\n",
       "      <td>21</td>\n",
       "      <td>26</td>\n",
       "    </tr>\n",
       "    <tr>\n",
       "      <th>9</th>\n",
       "      <td>1477311</td>\n",
       "      <td>39705</td>\n",
       "      <td>Bukhara Grill</td>\n",
       "      <td>Indian</td>\n",
       "      <td>7.18</td>\n",
       "      <td>Weekday</td>\n",
       "      <td>5</td>\n",
       "      <td>29</td>\n",
       "      <td>26</td>\n",
       "    </tr>\n",
       "  </tbody>\n",
       "</table>\n",
       "</div>"
      ],
      "text/plain": [
       "   order_id  customer_id            restaurant_name   cuisine_type  \\\n",
       "0   1477147       337525                    Hangawi         Korean   \n",
       "1   1477685       358141  Blue Ribbon Sushi Izakaya       Japanese   \n",
       "2   1477070        66393                Cafe Habana        Mexican   \n",
       "3   1477334       106968  Blue Ribbon Fried Chicken       American   \n",
       "4   1478249        76942           Dirty Bird to Go       American   \n",
       "5   1477224       147468           Tamarind TriBeCa         Indian   \n",
       "6   1477894       157711          The Meatball Shop        Italian   \n",
       "7   1477859        89574                  Barbounia  Mediterranean   \n",
       "8   1477174       121706         Anjappar Chettinad         Indian   \n",
       "9   1477311        39705              Bukhara Grill         Indian   \n",
       "\n",
       "   cost_of_the_order day_of_the_week     rating  food_preparation_time  \\\n",
       "0              30.75         Weekend  Not given                     25   \n",
       "1              12.08         Weekend  Not given                     25   \n",
       "2              12.23         Weekday          5                     23   \n",
       "3              29.20         Weekend          3                     25   \n",
       "4              11.59         Weekday          4                     25   \n",
       "5              25.22         Weekday          3                     20   \n",
       "6               6.07         Weekend  Not given                     28   \n",
       "7               5.97         Weekday          3                     33   \n",
       "8              16.44         Weekday          5                     21   \n",
       "9               7.18         Weekday          5                     29   \n",
       "\n",
       "   delivery_time  \n",
       "0             20  \n",
       "1             23  \n",
       "2             28  \n",
       "3             15  \n",
       "4             24  \n",
       "5             24  \n",
       "6             21  \n",
       "7             30  \n",
       "8             26  \n",
       "9             26  "
      ]
     },
     "execution_count": 93,
     "metadata": {},
     "output_type": "execute_result"
    }
   ],
   "source": [
    "df.head(10) "
   ]
  },
  {
   "cell_type": "code",
   "execution_count": 94,
   "metadata": {},
   "outputs": [
    {
     "data": {
      "text/html": [
       "<div>\n",
       "<style scoped>\n",
       "    .dataframe tbody tr th:only-of-type {\n",
       "        vertical-align: middle;\n",
       "    }\n",
       "\n",
       "    .dataframe tbody tr th {\n",
       "        vertical-align: top;\n",
       "    }\n",
       "\n",
       "    .dataframe thead th {\n",
       "        text-align: right;\n",
       "    }\n",
       "</style>\n",
       "<table border=\"1\" class=\"dataframe\">\n",
       "  <thead>\n",
       "    <tr style=\"text-align: right;\">\n",
       "      <th></th>\n",
       "      <th>order_id</th>\n",
       "      <th>customer_id</th>\n",
       "      <th>cost_of_the_order</th>\n",
       "      <th>food_preparation_time</th>\n",
       "      <th>delivery_time</th>\n",
       "    </tr>\n",
       "  </thead>\n",
       "  <tbody>\n",
       "    <tr>\n",
       "      <th>count</th>\n",
       "      <td>1.898000e+03</td>\n",
       "      <td>1898.000000</td>\n",
       "      <td>1898.000000</td>\n",
       "      <td>1898.000000</td>\n",
       "      <td>1898.000000</td>\n",
       "    </tr>\n",
       "    <tr>\n",
       "      <th>mean</th>\n",
       "      <td>1.477496e+06</td>\n",
       "      <td>171168.478398</td>\n",
       "      <td>16.498851</td>\n",
       "      <td>27.371970</td>\n",
       "      <td>24.161749</td>\n",
       "    </tr>\n",
       "    <tr>\n",
       "      <th>std</th>\n",
       "      <td>5.480497e+02</td>\n",
       "      <td>113698.139743</td>\n",
       "      <td>7.483812</td>\n",
       "      <td>4.632481</td>\n",
       "      <td>4.972637</td>\n",
       "    </tr>\n",
       "    <tr>\n",
       "      <th>min</th>\n",
       "      <td>1.476547e+06</td>\n",
       "      <td>1311.000000</td>\n",
       "      <td>4.470000</td>\n",
       "      <td>20.000000</td>\n",
       "      <td>15.000000</td>\n",
       "    </tr>\n",
       "    <tr>\n",
       "      <th>25%</th>\n",
       "      <td>1.477021e+06</td>\n",
       "      <td>77787.750000</td>\n",
       "      <td>12.080000</td>\n",
       "      <td>23.000000</td>\n",
       "      <td>20.000000</td>\n",
       "    </tr>\n",
       "    <tr>\n",
       "      <th>50%</th>\n",
       "      <td>1.477496e+06</td>\n",
       "      <td>128600.000000</td>\n",
       "      <td>14.140000</td>\n",
       "      <td>27.000000</td>\n",
       "      <td>25.000000</td>\n",
       "    </tr>\n",
       "    <tr>\n",
       "      <th>75%</th>\n",
       "      <td>1.477970e+06</td>\n",
       "      <td>270525.000000</td>\n",
       "      <td>22.297500</td>\n",
       "      <td>31.000000</td>\n",
       "      <td>28.000000</td>\n",
       "    </tr>\n",
       "    <tr>\n",
       "      <th>max</th>\n",
       "      <td>1.478444e+06</td>\n",
       "      <td>405334.000000</td>\n",
       "      <td>35.410000</td>\n",
       "      <td>35.000000</td>\n",
       "      <td>33.000000</td>\n",
       "    </tr>\n",
       "  </tbody>\n",
       "</table>\n",
       "</div>"
      ],
      "text/plain": [
       "           order_id    customer_id  cost_of_the_order  food_preparation_time  \\\n",
       "count  1.898000e+03    1898.000000        1898.000000            1898.000000   \n",
       "mean   1.477496e+06  171168.478398          16.498851              27.371970   \n",
       "std    5.480497e+02  113698.139743           7.483812               4.632481   \n",
       "min    1.476547e+06    1311.000000           4.470000              20.000000   \n",
       "25%    1.477021e+06   77787.750000          12.080000              23.000000   \n",
       "50%    1.477496e+06  128600.000000          14.140000              27.000000   \n",
       "75%    1.477970e+06  270525.000000          22.297500              31.000000   \n",
       "max    1.478444e+06  405334.000000          35.410000              35.000000   \n",
       "\n",
       "       delivery_time  \n",
       "count    1898.000000  \n",
       "mean       24.161749  \n",
       "std         4.972637  \n",
       "min        15.000000  \n",
       "25%        20.000000  \n",
       "50%        25.000000  \n",
       "75%        28.000000  \n",
       "max        33.000000  "
      ]
     },
     "execution_count": 94,
     "metadata": {},
     "output_type": "execute_result"
    }
   ],
   "source": [
    "df.describe() "
   ]
  },
  {
   "cell_type": "markdown",
   "metadata": {},
   "source": [
    "**Key Takeaways:**\n",
    "\n",
    "- The `average price` / cost per order is `$16.5` with a range of `$4.5` to `$35.4`.\n",
    "- The `average prep time` time is `27.4 minutes` with a range of `20 to 35 minutes`.\n",
    "- The `average delivery time` time is `24.2 minutes` with a range of `15 to 33 minutes`."
   ]
  },
  {
   "cell_type": "code",
   "execution_count": 95,
   "metadata": {},
   "outputs": [
    {
     "name": "stdout",
     "output_type": "stream",
     "text": [
      "<class 'pandas.core.frame.DataFrame'>\n",
      "RangeIndex: 1898 entries, 0 to 1897\n",
      "Data columns (total 9 columns):\n",
      " #   Column                 Non-Null Count  Dtype  \n",
      "---  ------                 --------------  -----  \n",
      " 0   order_id               1898 non-null   int64  \n",
      " 1   customer_id            1898 non-null   int64  \n",
      " 2   restaurant_name        1898 non-null   object \n",
      " 3   cuisine_type           1898 non-null   object \n",
      " 4   cost_of_the_order      1898 non-null   float64\n",
      " 5   day_of_the_week        1898 non-null   object \n",
      " 6   rating                 1898 non-null   object \n",
      " 7   food_preparation_time  1898 non-null   int64  \n",
      " 8   delivery_time          1898 non-null   int64  \n",
      "dtypes: float64(1), int64(4), object(4)\n",
      "memory usage: 133.6+ KB\n"
     ]
    }
   ],
   "source": [
    "df.info()"
   ]
  },
  {
   "cell_type": "markdown",
   "metadata": {},
   "source": [
    "**Key Takeaways:**\n",
    "\n",
    "- The dataset contains `1898 entries` with 9 different columns/features.\n",
    "- The dataset consists of `5 numerical` and `4 categorical` data.\n",
    "- The are no missing values in the dataset."
   ]
  },
  {
   "cell_type": "markdown",
   "metadata": {},
   "source": [
    "## **4. Data Cleaning**"
   ]
  },
  {
   "cell_type": "markdown",
   "metadata": {},
   "source": [
    "#### **Duplicate**"
   ]
  },
  {
   "cell_type": "markdown",
   "metadata": {},
   "source": [
    "Finding duplicated data using `duplicated()` method and then count the total amount of duplicated data using `sum()` method."
   ]
  },
  {
   "cell_type": "code",
   "execution_count": 96,
   "metadata": {},
   "outputs": [
    {
     "data": {
      "text/plain": [
       "0"
      ]
     },
     "execution_count": 96,
     "metadata": {},
     "output_type": "execute_result"
    }
   ],
   "source": [
    "df.duplicated().sum()"
   ]
  },
  {
   "cell_type": "markdown",
   "metadata": {},
   "source": [
    "There are no duplicated data in the dataset."
   ]
  },
  {
   "cell_type": "markdown",
   "metadata": {},
   "source": [
    "#### **Feature Checking**"
   ]
  },
  {
   "cell_type": "markdown",
   "metadata": {},
   "source": [
    "Using the `unique()` method to view the data in each column."
   ]
  },
  {
   "cell_type": "code",
   "execution_count": 97,
   "metadata": {},
   "outputs": [
    {
     "data": {
      "text/plain": [
       "array([1477147, 1477685, 1477070, ..., 1477819, 1477513, 1478056],\n",
       "      dtype=int64)"
      ]
     },
     "execution_count": 97,
     "metadata": {},
     "output_type": "execute_result"
    }
   ],
   "source": [
    "df['order_id'].unique()"
   ]
  },
  {
   "cell_type": "code",
   "execution_count": 98,
   "metadata": {},
   "outputs": [
    {
     "data": {
      "text/plain": [
       "array([337525, 358141,  66393, ...,  97838, 292602, 397537], dtype=int64)"
      ]
     },
     "execution_count": 98,
     "metadata": {},
     "output_type": "execute_result"
    }
   ],
   "source": [
    "df['customer_id'].unique()"
   ]
  },
  {
   "cell_type": "code",
   "execution_count": 99,
   "metadata": {},
   "outputs": [
    {
     "data": {
      "text/plain": [
       "array(['Hangawi', 'Blue Ribbon Sushi Izakaya', 'Cafe Habana',\n",
       "       'Blue Ribbon Fried Chicken', 'Dirty Bird to Go',\n",
       "       'Tamarind TriBeCa', 'The Meatball Shop', 'Barbounia',\n",
       "       'Anjappar Chettinad', 'Bukhara Grill',\n",
       "       'Big Wong Restaurant \\x8c_¤¾Ñ¼', 'Empanada Mama (closed)', 'Pylos',\n",
       "       \"Lucky's Famous Burgers\", 'Shake Shack', 'Sushi of Gari',\n",
       "       'RedFarm Hudson', 'Blue Ribbon Sushi',\n",
       "       'Five Guys Burgers and Fries', 'Tortaria', 'Cafe Mogador',\n",
       "       'Otto Enoteca Pizzeria', 'Vezzo Thin Crust Pizza',\n",
       "       'Sushi of Gari 46', 'The Kati Roll Company', 'Klong',\n",
       "       '5 Napkin Burger', 'TAO', 'Parm', 'Sushi Samba',\n",
       "       'Haru Gramercy Park', 'Chipotle Mexican Grill $1.99 Delivery',\n",
       "       'RedFarm Broadway', 'Cafeteria', 'DuMont Burger',\n",
       "       \"Sarabeth's East\", 'Hill Country Fried Chicken', 'Bistango',\n",
       "       \"Jack's Wife Freda\", \"Mamoun's Falafel\", 'Prosperity Dumpling',\n",
       "       'Blue Ribbon Sushi Bar & Grill', 'Westville Hudson',\n",
       "       'Blue Ribbon Brooklyn', 'Nobu Next Door', 'Osteria Morini',\n",
       "       'Haandi', 'Benihana', 'Han Dynasty', 'Chote Nawab',\n",
       "       'Mission Cantina', \"Xi'an Famous Foods\", 'Rubirosa',\n",
       "       \"Joe's Shanghai \\x8e_À\\x8eü£¾÷´\", 'Bareburger', 'The Odeon',\n",
       "       'Pongsri Thai', 'Yama Japanese Restaurant', 'Momoya',\n",
       "       'Balthazar Boulangerie', 'CafÌ© China', 'Boqueria',\n",
       "       'Song Thai Restaurant & Bar', 'Five Leaves',\n",
       "       'Pinto Nouveau Thai Bistro', \"Amy Ruth's\", 'Pepe Giallo',\n",
       "       'indikitch', 'Yama 49', 'Piccolo Angolo', 'Pepe Rosso To Go',\n",
       "       \"L'Express\", 'Amma', 'Delicatessen', \"S'MAC\",\n",
       "       \"Vanessa's Dumplings\", 'Bhatti Indian Grill', 'Taro Sushi',\n",
       "       'Donburi-ya', 'Hatsuhana', 'Samurai Mama', 'Waverly Diner',\n",
       "       'Tarallucci e Vino Restaurant', \"P.J. Clarke's\",\n",
       "       'Lantern Thai Kitchen', 'ilili Restaurant', 'The Smile',\n",
       "       \"Vanessa's Dumpling House\", \"Bubby's \", 'Woorijip',\n",
       "       'Dirty Bird To Go (archived)', 'Haveli Indian Restaurant',\n",
       "       'Dos Caminos', 'da Umberto', 'Sushi of Gari Tribeca',\n",
       "       'Burger Joint', 'Room Service', \"Sarabeth's Restaurant\",\n",
       "       'Xe May Sandwich Shop', 'Hibino', 'Mira Sushi', 'Melt Shop',\n",
       "       'J. G. Melon', 'Hummus Place', 'Saravanaa Bhavan',\n",
       "       'Friend of a Farmer', 'The Loop', 'Balade', 'Posto',\n",
       "       'Terakawa Ramen', 'Kambi Ramen House', 'Wo Hop Restaurant',\n",
       "       'Spice Thai', \"Dickson's Farmstand Meats\",\n",
       "       'UVA Wine Bar & Restaurant', 'Serafina Fabulous Pizza',\n",
       "       'Gaia Italian Cafe', 'Chola Eclectic Indian Cuisine',\n",
       "       'Hot Kitchen', 'Junoon', 'Ravagh Persian Grill', 'Rohm Thai',\n",
       "       'Dig Inn Seasonal Market', 'Olea', 'Cho Dang Gol',\n",
       "       'El Parador Cafe', 'Socarrat Paella Bar',\n",
       "       \"Don's Bogam BBQ & Wine Bar\", 'Alidoro', \"Tony's Di Napoli\",\n",
       "       'Cipriani Le Specialita', 'Sushi Choshi', 'Kanoyama', 'V-Nam Cafe',\n",
       "       'Zero Otto Nove', 'Dos Caminos Soho', 'Go! Go! Curry!',\n",
       "       'La Follia', 'Izakaya Ten', '12 Chairs', 'Philippe Chow',\n",
       "       'The MasalaWala', 'brgr', \"Carmine's\", 'Asuka Sushi', 'Aurora',\n",
       "       \"Sarabeth's\", 'Crema Restaurante', \"Big Daddy's\",\n",
       "       'Moonstruck on Second', 'Cafe de La Esquina', 'Olive Garden',\n",
       "       '67 Burger', 'Tres Carnes', \"Schnipper's Quality Kitchen\",\n",
       "       'Nha Trang One', 'Market Table', 'Galli Restaurant',\n",
       "       'Hampton Chutney Co.', 'Byblos Restaurant',\n",
       "       'Grand Sichuan International', 'Le Grainne Cafe', 'Il Bambino',\n",
       "       'Kori Restaurant and Bar', 'DespaÌ±a', 'Lamarca Pasta',\n",
       "       'Lucky Strike', \"Paul & Jimmy's\", 'Hunan Manor', \"Coppola's East\",\n",
       "       'Emporio', 'Wa Jeal', 'Le Zie 2000 Trattoria', 'Rye House',\n",
       "       \"Hiroko's Place\", 'Frank Restaurant', \"Sarabeth's West\",\n",
       "       \"'wichcraft\"], dtype=object)"
      ]
     },
     "execution_count": 99,
     "metadata": {},
     "output_type": "execute_result"
    }
   ],
   "source": [
    "df['restaurant_name'].unique()"
   ]
  },
  {
   "cell_type": "code",
   "execution_count": 100,
   "metadata": {},
   "outputs": [
    {
     "data": {
      "text/plain": [
       "array(['Korean', 'Japanese', 'Mexican', 'American', 'Indian', 'Italian',\n",
       "       'Mediterranean', 'Chinese', 'Middle Eastern', 'Thai', 'Southern',\n",
       "       'French', 'Spanish', 'Vietnamese'], dtype=object)"
      ]
     },
     "execution_count": 100,
     "metadata": {},
     "output_type": "execute_result"
    }
   ],
   "source": [
    "df['cuisine_type'].unique()"
   ]
  },
  {
   "cell_type": "code",
   "execution_count": 101,
   "metadata": {},
   "outputs": [
    {
     "data": {
      "text/plain": [
       "array([30.75, 12.08, 12.23, 29.2 , 11.59, 25.22,  6.07,  5.97, 16.44,\n",
       "        7.18,  5.92,  8.1 , 24.3 , 11.3 , 12.13, 16.2 , 16.98, 33.03,\n",
       "       14.12, 24.2 , 15.91, 29.1 ,  8.92, 15.86, 21.88, 14.02,  9.17,\n",
       "       12.18, 31.33, 29.05,  8.39,  9.12, 15.47, 16.01, 29.83, 19.89,\n",
       "       19.35, 33.22, 24.25, 22.75,  6.74, 13.78, 16.93, 29.39, 20.23,\n",
       "       14.6 ,  6.79, 31.38,  8.34, 12.46, 14.55, 32.93,  8.  , 13.05,\n",
       "        5.67, 29.29, 16.15, 13.34,  9.75,  6.69,  4.75, 12.56, 21.2 ,\n",
       "       19.31, 16.3 , 25.27, 14.79,  5.72,  9.22, 16.39, 17.03, 21.83,\n",
       "       31.29, 11.83, 22.26, 20.47, 15.81, 22.36,  8.68, 12.9 , 29.15,\n",
       "        7.86, 16.1 , 12.95, 11.69, 12.32, 14.99, 10.38,  9.65,  5.77,\n",
       "        9.56, 29.34, 11.16, 14.07, 22.8 , 15.23, 16.49,  8.83, 16.25,\n",
       "       16.83, 10.24, 19.4 , 13.97, 13.  ,  8.49, 20.18, 19.59, 16.11,\n",
       "       12.27, 13.39,  9.02, 15.33, 31.43, 29.35, 15.28,  9.6 ,  8.88,\n",
       "       15.96,  8.05,  8.54,  7.23, 19.69,  9.27,  8.97, 11.64, 13.15,\n",
       "        9.41,  9.07, 14.46,  6.7 , 19.45, 12.22, 29.25, 16.05, 17.08,\n",
       "       32.98, 13.73, 14.31, 14.7 , 15.52,  6.11, 21.93, 15.76,  9.46,\n",
       "       12.61, 22.85, 16.06, 21.39,  8.25, 14.94, 14.26, 21.34, 14.16,\n",
       "        5.68, 15.57, 14.45,  8.15,  8.78,  8.59, 15.62,  5.87,  6.01,\n",
       "        9.85,  6.84,  5.82,  7.96,  9.7 ,  4.85,  6.06, 12.66,  6.02,\n",
       "        7.08, 12.37, 14.84, 22.31, 13.1 , 14.75, 24.35, 25.17,  9.26,\n",
       "        9.55, 13.92,  4.66, 13.87,  7.61, 15.72,  8.35, 14.21, 14.65,\n",
       "        4.71,  8.63, 13.68, 11.93, 35.41,  6.64, 10.72,  8.73, 16.78,\n",
       "        5.58, 13.63, 29.54, 29.49, 15.04, 18.24,  4.47,  8.98, 15.71,\n",
       "        8.93,  9.51,  9.61,  7.38, 13.19, 10.82,  6.26,  8.2 ,  7.33,\n",
       "       12.71,  5.63, 17.07,  5.48, 22.12, 15.77,  6.45, 11.79, 11.98,\n",
       "       20.32, 28.57, 22.07, 21.29, 14.41, 29.88,  4.8 , 10.14,  8.44,\n",
       "       16.54,  7.71, 29.78, 31.86, 19.98, 12.42, 12.52, 15.38,  8.3 ,\n",
       "       13.24,  8.01, 29.68,  9.32, 12.51,  5.34,  6.4 , 19.3 , 17.85,\n",
       "       16.88, 13.77,  5.73, 11.84, 15.67, 13.58, 33.18,  6.55, 20.52,\n",
       "       28.62, 15.18, 29.3 , 12.81, 29.44, 11.11, 14.5 , 22.02, 11.88,\n",
       "       33.32, 18.43, 12.47, 20.13, 20.57, 15.09, 19.74, 18.04, 31.67,\n",
       "        5.05,  7.03, 14.8 , 12.17,  7.28, 15.13,  7.81, 16.74,  9.31,\n",
       "       21.25, 31.87, 19.02, 34.19,  5.53, 22.46, 29.73, 10.43, 19.5 ,\n",
       "        4.9 , 15.37,  7.67,  7.91, 13.53, 33.37, 19.6 , 13.48, 20.71,\n",
       "       20.61,  7.66, 10.86,  7.95, 20.86, 29.59])"
      ]
     },
     "execution_count": 101,
     "metadata": {},
     "output_type": "execute_result"
    }
   ],
   "source": [
    "df['cost_of_the_order'].unique()"
   ]
  },
  {
   "cell_type": "code",
   "execution_count": 102,
   "metadata": {},
   "outputs": [
    {
     "data": {
      "text/plain": [
       "array(['Weekend', 'Weekday'], dtype=object)"
      ]
     },
     "execution_count": 102,
     "metadata": {},
     "output_type": "execute_result"
    }
   ],
   "source": [
    "df['day_of_the_week'].unique()"
   ]
  },
  {
   "cell_type": "code",
   "execution_count": 103,
   "metadata": {},
   "outputs": [
    {
     "data": {
      "text/plain": [
       "array(['Not given', '5', '3', '4'], dtype=object)"
      ]
     },
     "execution_count": 103,
     "metadata": {},
     "output_type": "execute_result"
    }
   ],
   "source": [
    "df['rating'].unique()"
   ]
  },
  {
   "cell_type": "code",
   "execution_count": 104,
   "metadata": {},
   "outputs": [
    {
     "data": {
      "text/plain": [
       "array([25, 23, 20, 28, 33, 21, 29, 34, 24, 30, 35, 32, 31, 27, 22, 26],\n",
       "      dtype=int64)"
      ]
     },
     "execution_count": 104,
     "metadata": {},
     "output_type": "execute_result"
    }
   ],
   "source": [
    "df['food_preparation_time'].unique()"
   ]
  },
  {
   "cell_type": "code",
   "execution_count": 105,
   "metadata": {},
   "outputs": [
    {
     "data": {
      "text/plain": [
       "array([20, 23, 28, 15, 24, 21, 30, 26, 22, 17, 25, 16, 29, 27, 18, 31, 32,\n",
       "       19, 33], dtype=int64)"
      ]
     },
     "execution_count": 105,
     "metadata": {},
     "output_type": "execute_result"
    }
   ],
   "source": [
    "df['delivery_time'].unique()"
   ]
  },
  {
   "cell_type": "markdown",
   "metadata": {},
   "source": [
    "#### **Conclusion**"
   ]
  },
  {
   "cell_type": "markdown",
   "metadata": {},
   "source": [
    "- Regularize the string in `restaurant_name`.\n",
    "- Handle the data with `not given` in `rating`.\n",
    "- Change `rating` data type."
   ]
  },
  {
   "cell_type": "markdown",
   "metadata": {},
   "source": [
    "### **Regularize `restaurant_name`**"
   ]
  },
  {
   "cell_type": "markdown",
   "metadata": {},
   "source": [
    "Using `str.replace()` method to regularize the string."
   ]
  },
  {
   "cell_type": "code",
   "execution_count": 106,
   "metadata": {},
   "outputs": [],
   "source": [
    "df['restaurant_name'] = df['restaurant_name'].str.replace(r'[^\\x00-\\x7F]+', '',regex=True)  #Remove non-ASCII characters\n",
    "df['restaurant_name'] = df['restaurant_name'].str.replace('_', '') #Remove underscores"
   ]
  },
  {
   "cell_type": "code",
   "execution_count": 107,
   "metadata": {},
   "outputs": [
    {
     "data": {
      "text/plain": [
       "array(['Hangawi', 'Blue Ribbon Sushi Izakaya', 'Cafe Habana',\n",
       "       'Blue Ribbon Fried Chicken', 'Dirty Bird to Go',\n",
       "       'Tamarind TriBeCa', 'The Meatball Shop', 'Barbounia',\n",
       "       'Anjappar Chettinad', 'Bukhara Grill', 'Big Wong Restaurant ',\n",
       "       'Empanada Mama (closed)', 'Pylos', \"Lucky's Famous Burgers\",\n",
       "       'Shake Shack', 'Sushi of Gari', 'RedFarm Hudson',\n",
       "       'Blue Ribbon Sushi', 'Five Guys Burgers and Fries', 'Tortaria',\n",
       "       'Cafe Mogador', 'Otto Enoteca Pizzeria', 'Vezzo Thin Crust Pizza',\n",
       "       'Sushi of Gari 46', 'The Kati Roll Company', 'Klong',\n",
       "       '5 Napkin Burger', 'TAO', 'Parm', 'Sushi Samba',\n",
       "       'Haru Gramercy Park', 'Chipotle Mexican Grill $1.99 Delivery',\n",
       "       'RedFarm Broadway', 'Cafeteria', 'DuMont Burger',\n",
       "       \"Sarabeth's East\", 'Hill Country Fried Chicken', 'Bistango',\n",
       "       \"Jack's Wife Freda\", \"Mamoun's Falafel\", 'Prosperity Dumpling',\n",
       "       'Blue Ribbon Sushi Bar & Grill', 'Westville Hudson',\n",
       "       'Blue Ribbon Brooklyn', 'Nobu Next Door', 'Osteria Morini',\n",
       "       'Haandi', 'Benihana', 'Han Dynasty', 'Chote Nawab',\n",
       "       'Mission Cantina', \"Xi'an Famous Foods\", 'Rubirosa',\n",
       "       \"Joe's Shanghai \", 'Bareburger', 'The Odeon', 'Pongsri Thai',\n",
       "       'Yama Japanese Restaurant', 'Momoya', 'Balthazar Boulangerie',\n",
       "       'Caf China', 'Boqueria', 'Song Thai Restaurant & Bar',\n",
       "       'Five Leaves', 'Pinto Nouveau Thai Bistro', \"Amy Ruth's\",\n",
       "       'Pepe Giallo', 'indikitch', 'Yama 49', 'Piccolo Angolo',\n",
       "       'Pepe Rosso To Go', \"L'Express\", 'Amma', 'Delicatessen', \"S'MAC\",\n",
       "       \"Vanessa's Dumplings\", 'Bhatti Indian Grill', 'Taro Sushi',\n",
       "       'Donburi-ya', 'Hatsuhana', 'Samurai Mama', 'Waverly Diner',\n",
       "       'Tarallucci e Vino Restaurant', \"P.J. Clarke's\",\n",
       "       'Lantern Thai Kitchen', 'ilili Restaurant', 'The Smile',\n",
       "       \"Vanessa's Dumpling House\", \"Bubby's \", 'Woorijip',\n",
       "       'Dirty Bird To Go (archived)', 'Haveli Indian Restaurant',\n",
       "       'Dos Caminos', 'da Umberto', 'Sushi of Gari Tribeca',\n",
       "       'Burger Joint', 'Room Service', \"Sarabeth's Restaurant\",\n",
       "       'Xe May Sandwich Shop', 'Hibino', 'Mira Sushi', 'Melt Shop',\n",
       "       'J. G. Melon', 'Hummus Place', 'Saravanaa Bhavan',\n",
       "       'Friend of a Farmer', 'The Loop', 'Balade', 'Posto',\n",
       "       'Terakawa Ramen', 'Kambi Ramen House', 'Wo Hop Restaurant',\n",
       "       'Spice Thai', \"Dickson's Farmstand Meats\",\n",
       "       'UVA Wine Bar & Restaurant', 'Serafina Fabulous Pizza',\n",
       "       'Gaia Italian Cafe', 'Chola Eclectic Indian Cuisine',\n",
       "       'Hot Kitchen', 'Junoon', 'Ravagh Persian Grill', 'Rohm Thai',\n",
       "       'Dig Inn Seasonal Market', 'Olea', 'Cho Dang Gol',\n",
       "       'El Parador Cafe', 'Socarrat Paella Bar',\n",
       "       \"Don's Bogam BBQ & Wine Bar\", 'Alidoro', \"Tony's Di Napoli\",\n",
       "       'Cipriani Le Specialita', 'Sushi Choshi', 'Kanoyama', 'V-Nam Cafe',\n",
       "       'Zero Otto Nove', 'Dos Caminos Soho', 'Go! Go! Curry!',\n",
       "       'La Follia', 'Izakaya Ten', '12 Chairs', 'Philippe Chow',\n",
       "       'The MasalaWala', 'brgr', \"Carmine's\", 'Asuka Sushi', 'Aurora',\n",
       "       \"Sarabeth's\", 'Crema Restaurante', \"Big Daddy's\",\n",
       "       'Moonstruck on Second', 'Cafe de La Esquina', 'Olive Garden',\n",
       "       '67 Burger', 'Tres Carnes', \"Schnipper's Quality Kitchen\",\n",
       "       'Nha Trang One', 'Market Table', 'Galli Restaurant',\n",
       "       'Hampton Chutney Co.', 'Byblos Restaurant',\n",
       "       'Grand Sichuan International', 'Le Grainne Cafe', 'Il Bambino',\n",
       "       'Kori Restaurant and Bar', 'Despaa', 'Lamarca Pasta',\n",
       "       'Lucky Strike', \"Paul & Jimmy's\", 'Hunan Manor', \"Coppola's East\",\n",
       "       'Emporio', 'Wa Jeal', 'Le Zie 2000 Trattoria', 'Rye House',\n",
       "       \"Hiroko's Place\", 'Frank Restaurant', \"Sarabeth's West\",\n",
       "       \"'wichcraft\"], dtype=object)"
      ]
     },
     "execution_count": 107,
     "metadata": {},
     "output_type": "execute_result"
    }
   ],
   "source": [
    "df['restaurant_name'].unique()"
   ]
  },
  {
   "cell_type": "markdown",
   "metadata": {},
   "source": [
    "According to the output, the data has been regularized successfully."
   ]
  },
  {
   "cell_type": "markdown",
   "metadata": {},
   "source": [
    "### **Handle Data with `not given` entries**"
   ]
  },
  {
   "cell_type": "code",
   "execution_count": 108,
   "metadata": {},
   "outputs": [
    {
     "data": {
      "text/plain": [
       "order_id                 736\n",
       "customer_id              736\n",
       "restaurant_name          736\n",
       "cuisine_type             736\n",
       "cost_of_the_order        736\n",
       "day_of_the_week          736\n",
       "rating                   736\n",
       "food_preparation_time    736\n",
       "delivery_time            736\n",
       "dtype: int64"
      ]
     },
     "execution_count": 108,
     "metadata": {},
     "output_type": "execute_result"
    }
   ],
   "source": [
    "df[(df['rating'] == 'Not given')].count()"
   ]
  },
  {
   "cell_type": "code",
   "execution_count": 109,
   "metadata": {},
   "outputs": [
    {
     "data": {
      "text/plain": [
       "rating\n",
       "Not given    736\n",
       "5            588\n",
       "4            386\n",
       "3            188\n",
       "Name: count, dtype: int64"
      ]
     },
     "execution_count": 109,
     "metadata": {},
     "output_type": "execute_result"
    }
   ],
   "source": [
    "df['rating'].value_counts() #Menghitung jumlah frekuensi muncul tiap rating"
   ]
  },
  {
   "cell_type": "markdown",
   "metadata": {},
   "source": [
    "**Options:**\n",
    "\n",
    "Fill `not given` with **mode (5)**:\n",
    "- (+) Filling with mode will not affect the data distribution significantly.\n",
    "- (-) May cause an unwanted bias.\n",
    "- (-) The mode (5) is an extreme value and may cause an inaccurate predictions.\n",
    "\n",
    "Fill `not given` with **median (4)**:\n",
    "- (+) The median (4) is not an extreme value which will less likely cause a bias.\n",
    "- (-) Filling with median may affect the data distribution significantly.\n",
    "\n",
    "**Drop data**:\n",
    "- (+) Data authenticity is maintained.\n",
    "- (-) Potentially losing valuable data."
   ]
  },
  {
   "cell_type": "markdown",
   "metadata": {},
   "source": [
    "**Final Decision:**\n",
    "\n",
    "The final decision is to drop the data since we want to maintain the authenticity of the data so that the analysis results would represent the customers actual preferences. After the data is dropped, we will still have more than 1000 entries which is considered sufficient to use for the analysis."
   ]
  },
  {
   "cell_type": "code",
   "execution_count": 110,
   "metadata": {},
   "outputs": [
    {
     "data": {
      "text/html": [
       "<div>\n",
       "<style scoped>\n",
       "    .dataframe tbody tr th:only-of-type {\n",
       "        vertical-align: middle;\n",
       "    }\n",
       "\n",
       "    .dataframe tbody tr th {\n",
       "        vertical-align: top;\n",
       "    }\n",
       "\n",
       "    .dataframe thead th {\n",
       "        text-align: right;\n",
       "    }\n",
       "</style>\n",
       "<table border=\"1\" class=\"dataframe\">\n",
       "  <thead>\n",
       "    <tr style=\"text-align: right;\">\n",
       "      <th></th>\n",
       "      <th>order_id</th>\n",
       "      <th>customer_id</th>\n",
       "      <th>restaurant_name</th>\n",
       "      <th>cuisine_type</th>\n",
       "      <th>cost_of_the_order</th>\n",
       "      <th>day_of_the_week</th>\n",
       "      <th>rating</th>\n",
       "      <th>food_preparation_time</th>\n",
       "      <th>delivery_time</th>\n",
       "    </tr>\n",
       "  </thead>\n",
       "  <tbody>\n",
       "    <tr>\n",
       "      <th>2</th>\n",
       "      <td>1477070</td>\n",
       "      <td>66393</td>\n",
       "      <td>Cafe Habana</td>\n",
       "      <td>Mexican</td>\n",
       "      <td>12.23</td>\n",
       "      <td>Weekday</td>\n",
       "      <td>5</td>\n",
       "      <td>23</td>\n",
       "      <td>28</td>\n",
       "    </tr>\n",
       "    <tr>\n",
       "      <th>3</th>\n",
       "      <td>1477334</td>\n",
       "      <td>106968</td>\n",
       "      <td>Blue Ribbon Fried Chicken</td>\n",
       "      <td>American</td>\n",
       "      <td>29.20</td>\n",
       "      <td>Weekend</td>\n",
       "      <td>3</td>\n",
       "      <td>25</td>\n",
       "      <td>15</td>\n",
       "    </tr>\n",
       "    <tr>\n",
       "      <th>4</th>\n",
       "      <td>1478249</td>\n",
       "      <td>76942</td>\n",
       "      <td>Dirty Bird to Go</td>\n",
       "      <td>American</td>\n",
       "      <td>11.59</td>\n",
       "      <td>Weekday</td>\n",
       "      <td>4</td>\n",
       "      <td>25</td>\n",
       "      <td>24</td>\n",
       "    </tr>\n",
       "    <tr>\n",
       "      <th>5</th>\n",
       "      <td>1477224</td>\n",
       "      <td>147468</td>\n",
       "      <td>Tamarind TriBeCa</td>\n",
       "      <td>Indian</td>\n",
       "      <td>25.22</td>\n",
       "      <td>Weekday</td>\n",
       "      <td>3</td>\n",
       "      <td>20</td>\n",
       "      <td>24</td>\n",
       "    </tr>\n",
       "    <tr>\n",
       "      <th>7</th>\n",
       "      <td>1477859</td>\n",
       "      <td>89574</td>\n",
       "      <td>Barbounia</td>\n",
       "      <td>Mediterranean</td>\n",
       "      <td>5.97</td>\n",
       "      <td>Weekday</td>\n",
       "      <td>3</td>\n",
       "      <td>33</td>\n",
       "      <td>30</td>\n",
       "    </tr>\n",
       "    <tr>\n",
       "      <th>...</th>\n",
       "      <td>...</td>\n",
       "      <td>...</td>\n",
       "      <td>...</td>\n",
       "      <td>...</td>\n",
       "      <td>...</td>\n",
       "      <td>...</td>\n",
       "      <td>...</td>\n",
       "      <td>...</td>\n",
       "      <td>...</td>\n",
       "    </tr>\n",
       "    <tr>\n",
       "      <th>1889</th>\n",
       "      <td>1478190</td>\n",
       "      <td>94152</td>\n",
       "      <td>RedFarm Broadway</td>\n",
       "      <td>Chinese</td>\n",
       "      <td>8.68</td>\n",
       "      <td>Weekday</td>\n",
       "      <td>3</td>\n",
       "      <td>33</td>\n",
       "      <td>30</td>\n",
       "    </tr>\n",
       "    <tr>\n",
       "      <th>1890</th>\n",
       "      <td>1477316</td>\n",
       "      <td>164776</td>\n",
       "      <td>TAO</td>\n",
       "      <td>Japanese</td>\n",
       "      <td>15.67</td>\n",
       "      <td>Weekend</td>\n",
       "      <td>5</td>\n",
       "      <td>20</td>\n",
       "      <td>22</td>\n",
       "    </tr>\n",
       "    <tr>\n",
       "      <th>1893</th>\n",
       "      <td>1476701</td>\n",
       "      <td>292602</td>\n",
       "      <td>Chipotle Mexican Grill $1.99 Delivery</td>\n",
       "      <td>Mexican</td>\n",
       "      <td>22.31</td>\n",
       "      <td>Weekend</td>\n",
       "      <td>5</td>\n",
       "      <td>31</td>\n",
       "      <td>17</td>\n",
       "    </tr>\n",
       "    <tr>\n",
       "      <th>1894</th>\n",
       "      <td>1477421</td>\n",
       "      <td>397537</td>\n",
       "      <td>The Smile</td>\n",
       "      <td>American</td>\n",
       "      <td>12.18</td>\n",
       "      <td>Weekend</td>\n",
       "      <td>5</td>\n",
       "      <td>31</td>\n",
       "      <td>19</td>\n",
       "    </tr>\n",
       "    <tr>\n",
       "      <th>1896</th>\n",
       "      <td>1477513</td>\n",
       "      <td>64151</td>\n",
       "      <td>Jack's Wife Freda</td>\n",
       "      <td>Mediterranean</td>\n",
       "      <td>12.18</td>\n",
       "      <td>Weekday</td>\n",
       "      <td>5</td>\n",
       "      <td>23</td>\n",
       "      <td>31</td>\n",
       "    </tr>\n",
       "  </tbody>\n",
       "</table>\n",
       "<p>1162 rows × 9 columns</p>\n",
       "</div>"
      ],
      "text/plain": [
       "      order_id  customer_id                        restaurant_name  \\\n",
       "2      1477070        66393                            Cafe Habana   \n",
       "3      1477334       106968              Blue Ribbon Fried Chicken   \n",
       "4      1478249        76942                       Dirty Bird to Go   \n",
       "5      1477224       147468                       Tamarind TriBeCa   \n",
       "7      1477859        89574                              Barbounia   \n",
       "...        ...          ...                                    ...   \n",
       "1889   1478190        94152                       RedFarm Broadway   \n",
       "1890   1477316       164776                                    TAO   \n",
       "1893   1476701       292602  Chipotle Mexican Grill $1.99 Delivery   \n",
       "1894   1477421       397537                              The Smile   \n",
       "1896   1477513        64151                      Jack's Wife Freda   \n",
       "\n",
       "       cuisine_type  cost_of_the_order day_of_the_week rating  \\\n",
       "2           Mexican              12.23         Weekday      5   \n",
       "3          American              29.20         Weekend      3   \n",
       "4          American              11.59         Weekday      4   \n",
       "5            Indian              25.22         Weekday      3   \n",
       "7     Mediterranean               5.97         Weekday      3   \n",
       "...             ...                ...             ...    ...   \n",
       "1889        Chinese               8.68         Weekday      3   \n",
       "1890       Japanese              15.67         Weekend      5   \n",
       "1893        Mexican              22.31         Weekend      5   \n",
       "1894       American              12.18         Weekend      5   \n",
       "1896  Mediterranean              12.18         Weekday      5   \n",
       "\n",
       "      food_preparation_time  delivery_time  \n",
       "2                        23             28  \n",
       "3                        25             15  \n",
       "4                        25             24  \n",
       "5                        20             24  \n",
       "7                        33             30  \n",
       "...                     ...            ...  \n",
       "1889                     33             30  \n",
       "1890                     20             22  \n",
       "1893                     31             17  \n",
       "1894                     31             19  \n",
       "1896                     23             31  \n",
       "\n",
       "[1162 rows x 9 columns]"
      ]
     },
     "execution_count": 110,
     "metadata": {},
     "output_type": "execute_result"
    }
   ],
   "source": [
    "df_new = df.drop(df[df['rating'] == 'Not given'].index) \n",
    "\n",
    "df_new"
   ]
  },
  {
   "cell_type": "markdown",
   "metadata": {},
   "source": [
    "### **Change Data Type**"
   ]
  },
  {
   "cell_type": "code",
   "execution_count": 111,
   "metadata": {},
   "outputs": [
    {
     "name": "stdout",
     "output_type": "stream",
     "text": [
      "<class 'pandas.core.frame.DataFrame'>\n",
      "Index: 1162 entries, 2 to 1896\n",
      "Data columns (total 9 columns):\n",
      " #   Column                 Non-Null Count  Dtype  \n",
      "---  ------                 --------------  -----  \n",
      " 0   order_id               1162 non-null   int64  \n",
      " 1   customer_id            1162 non-null   int64  \n",
      " 2   restaurant_name        1162 non-null   object \n",
      " 3   cuisine_type           1162 non-null   object \n",
      " 4   cost_of_the_order      1162 non-null   float64\n",
      " 5   day_of_the_week        1162 non-null   object \n",
      " 6   rating                 1162 non-null   float64\n",
      " 7   food_preparation_time  1162 non-null   int64  \n",
      " 8   delivery_time          1162 non-null   int64  \n",
      "dtypes: float64(2), int64(4), object(3)\n",
      "memory usage: 90.8+ KB\n"
     ]
    }
   ],
   "source": [
    "df_new['rating'] = df_new['rating'].astype(float)\n",
    "df_new.info()"
   ]
  },
  {
   "cell_type": "markdown",
   "metadata": {},
   "source": [
    "Based on the output, the data type for `rating` column has changed."
   ]
  },
  {
   "cell_type": "markdown",
   "metadata": {},
   "source": [
    "## **5. Analysis**"
   ]
  },
  {
   "cell_type": "markdown",
   "metadata": {},
   "source": [
    "After cleaning the data, the dataset is ready to use for analysis."
   ]
  },
  {
   "cell_type": "markdown",
   "metadata": {},
   "source": [
    "Preview the cleaned dataset for analysis."
   ]
  },
  {
   "cell_type": "code",
   "execution_count": 112,
   "metadata": {},
   "outputs": [
    {
     "data": {
      "text/html": [
       "<div>\n",
       "<style scoped>\n",
       "    .dataframe tbody tr th:only-of-type {\n",
       "        vertical-align: middle;\n",
       "    }\n",
       "\n",
       "    .dataframe tbody tr th {\n",
       "        vertical-align: top;\n",
       "    }\n",
       "\n",
       "    .dataframe thead th {\n",
       "        text-align: right;\n",
       "    }\n",
       "</style>\n",
       "<table border=\"1\" class=\"dataframe\">\n",
       "  <thead>\n",
       "    <tr style=\"text-align: right;\">\n",
       "      <th></th>\n",
       "      <th>order_id</th>\n",
       "      <th>customer_id</th>\n",
       "      <th>restaurant_name</th>\n",
       "      <th>cuisine_type</th>\n",
       "      <th>cost_of_the_order</th>\n",
       "      <th>day_of_the_week</th>\n",
       "      <th>rating</th>\n",
       "      <th>food_preparation_time</th>\n",
       "      <th>delivery_time</th>\n",
       "    </tr>\n",
       "  </thead>\n",
       "  <tbody>\n",
       "    <tr>\n",
       "      <th>2</th>\n",
       "      <td>1477070</td>\n",
       "      <td>66393</td>\n",
       "      <td>Cafe Habana</td>\n",
       "      <td>Mexican</td>\n",
       "      <td>12.23</td>\n",
       "      <td>Weekday</td>\n",
       "      <td>5.0</td>\n",
       "      <td>23</td>\n",
       "      <td>28</td>\n",
       "    </tr>\n",
       "    <tr>\n",
       "      <th>3</th>\n",
       "      <td>1477334</td>\n",
       "      <td>106968</td>\n",
       "      <td>Blue Ribbon Fried Chicken</td>\n",
       "      <td>American</td>\n",
       "      <td>29.20</td>\n",
       "      <td>Weekend</td>\n",
       "      <td>3.0</td>\n",
       "      <td>25</td>\n",
       "      <td>15</td>\n",
       "    </tr>\n",
       "    <tr>\n",
       "      <th>4</th>\n",
       "      <td>1478249</td>\n",
       "      <td>76942</td>\n",
       "      <td>Dirty Bird to Go</td>\n",
       "      <td>American</td>\n",
       "      <td>11.59</td>\n",
       "      <td>Weekday</td>\n",
       "      <td>4.0</td>\n",
       "      <td>25</td>\n",
       "      <td>24</td>\n",
       "    </tr>\n",
       "    <tr>\n",
       "      <th>5</th>\n",
       "      <td>1477224</td>\n",
       "      <td>147468</td>\n",
       "      <td>Tamarind TriBeCa</td>\n",
       "      <td>Indian</td>\n",
       "      <td>25.22</td>\n",
       "      <td>Weekday</td>\n",
       "      <td>3.0</td>\n",
       "      <td>20</td>\n",
       "      <td>24</td>\n",
       "    </tr>\n",
       "    <tr>\n",
       "      <th>7</th>\n",
       "      <td>1477859</td>\n",
       "      <td>89574</td>\n",
       "      <td>Barbounia</td>\n",
       "      <td>Mediterranean</td>\n",
       "      <td>5.97</td>\n",
       "      <td>Weekday</td>\n",
       "      <td>3.0</td>\n",
       "      <td>33</td>\n",
       "      <td>30</td>\n",
       "    </tr>\n",
       "    <tr>\n",
       "      <th>...</th>\n",
       "      <td>...</td>\n",
       "      <td>...</td>\n",
       "      <td>...</td>\n",
       "      <td>...</td>\n",
       "      <td>...</td>\n",
       "      <td>...</td>\n",
       "      <td>...</td>\n",
       "      <td>...</td>\n",
       "      <td>...</td>\n",
       "    </tr>\n",
       "    <tr>\n",
       "      <th>1889</th>\n",
       "      <td>1478190</td>\n",
       "      <td>94152</td>\n",
       "      <td>RedFarm Broadway</td>\n",
       "      <td>Chinese</td>\n",
       "      <td>8.68</td>\n",
       "      <td>Weekday</td>\n",
       "      <td>3.0</td>\n",
       "      <td>33</td>\n",
       "      <td>30</td>\n",
       "    </tr>\n",
       "    <tr>\n",
       "      <th>1890</th>\n",
       "      <td>1477316</td>\n",
       "      <td>164776</td>\n",
       "      <td>TAO</td>\n",
       "      <td>Japanese</td>\n",
       "      <td>15.67</td>\n",
       "      <td>Weekend</td>\n",
       "      <td>5.0</td>\n",
       "      <td>20</td>\n",
       "      <td>22</td>\n",
       "    </tr>\n",
       "    <tr>\n",
       "      <th>1893</th>\n",
       "      <td>1476701</td>\n",
       "      <td>292602</td>\n",
       "      <td>Chipotle Mexican Grill $1.99 Delivery</td>\n",
       "      <td>Mexican</td>\n",
       "      <td>22.31</td>\n",
       "      <td>Weekend</td>\n",
       "      <td>5.0</td>\n",
       "      <td>31</td>\n",
       "      <td>17</td>\n",
       "    </tr>\n",
       "    <tr>\n",
       "      <th>1894</th>\n",
       "      <td>1477421</td>\n",
       "      <td>397537</td>\n",
       "      <td>The Smile</td>\n",
       "      <td>American</td>\n",
       "      <td>12.18</td>\n",
       "      <td>Weekend</td>\n",
       "      <td>5.0</td>\n",
       "      <td>31</td>\n",
       "      <td>19</td>\n",
       "    </tr>\n",
       "    <tr>\n",
       "      <th>1896</th>\n",
       "      <td>1477513</td>\n",
       "      <td>64151</td>\n",
       "      <td>Jack's Wife Freda</td>\n",
       "      <td>Mediterranean</td>\n",
       "      <td>12.18</td>\n",
       "      <td>Weekday</td>\n",
       "      <td>5.0</td>\n",
       "      <td>23</td>\n",
       "      <td>31</td>\n",
       "    </tr>\n",
       "  </tbody>\n",
       "</table>\n",
       "<p>1162 rows × 9 columns</p>\n",
       "</div>"
      ],
      "text/plain": [
       "      order_id  customer_id                        restaurant_name  \\\n",
       "2      1477070        66393                            Cafe Habana   \n",
       "3      1477334       106968              Blue Ribbon Fried Chicken   \n",
       "4      1478249        76942                       Dirty Bird to Go   \n",
       "5      1477224       147468                       Tamarind TriBeCa   \n",
       "7      1477859        89574                              Barbounia   \n",
       "...        ...          ...                                    ...   \n",
       "1889   1478190        94152                       RedFarm Broadway   \n",
       "1890   1477316       164776                                    TAO   \n",
       "1893   1476701       292602  Chipotle Mexican Grill $1.99 Delivery   \n",
       "1894   1477421       397537                              The Smile   \n",
       "1896   1477513        64151                      Jack's Wife Freda   \n",
       "\n",
       "       cuisine_type  cost_of_the_order day_of_the_week  rating  \\\n",
       "2           Mexican              12.23         Weekday     5.0   \n",
       "3          American              29.20         Weekend     3.0   \n",
       "4          American              11.59         Weekday     4.0   \n",
       "5            Indian              25.22         Weekday     3.0   \n",
       "7     Mediterranean               5.97         Weekday     3.0   \n",
       "...             ...                ...             ...     ...   \n",
       "1889        Chinese               8.68         Weekday     3.0   \n",
       "1890       Japanese              15.67         Weekend     5.0   \n",
       "1893        Mexican              22.31         Weekend     5.0   \n",
       "1894       American              12.18         Weekend     5.0   \n",
       "1896  Mediterranean              12.18         Weekday     5.0   \n",
       "\n",
       "      food_preparation_time  delivery_time  \n",
       "2                        23             28  \n",
       "3                        25             15  \n",
       "4                        25             24  \n",
       "5                        20             24  \n",
       "7                        33             30  \n",
       "...                     ...            ...  \n",
       "1889                     33             30  \n",
       "1890                     20             22  \n",
       "1893                     31             17  \n",
       "1894                     31             19  \n",
       "1896                     23             31  \n",
       "\n",
       "[1162 rows x 9 columns]"
      ]
     },
     "execution_count": 112,
     "metadata": {},
     "output_type": "execute_result"
    }
   ],
   "source": [
    "df_new"
   ]
  },
  {
   "cell_type": "markdown",
   "metadata": {},
   "source": [
    "#### **1. `delivery_time` and `rating` correlation.**"
   ]
  },
  {
   "cell_type": "markdown",
   "metadata": {},
   "source": [
    "To find the relation within the two features, we will do statistical inference. We will use two methods, `correlation analysis` and `hypothesis testing`."
   ]
  },
  {
   "cell_type": "markdown",
   "metadata": {},
   "source": [
    "We will use `Spearman's method` due to the following reasons:\n",
    "- Both features are numerical data.\n",
    "- `rating` doesn't follow a normal distribution pattern (skewed)."
   ]
  },
  {
   "cell_type": "markdown",
   "metadata": {},
   "source": [
    "**Hypothesis:**\n",
    "- **H0**: There are no correlations between `delivery_time` and `rating`.\n",
    "- **H1**: There's a correlation between `delivery_time` and `rating`."
   ]
  },
  {
   "cell_type": "markdown",
   "metadata": {},
   "source": [
    "Visualizing a `scatter chart`, the x axis represents `rating` while y axis represents `delivery_time`."
   ]
  },
  {
   "cell_type": "code",
   "execution_count": 113,
   "metadata": {},
   "outputs": [
    {
     "data": {
      "text/plain": [
       "Text(0.5, 1.0, 'Delivery Time vs Rating')"
      ]
     },
     "execution_count": 113,
     "metadata": {},
     "output_type": "execute_result"
    },
    {
     "data": {
      "image/png": "[encoded data removed]",
      "text/plain": [
       "<Figure size 500x500 with 1 Axes>"
      ]
     },
     "metadata": {},
     "output_type": "display_data"
    }
   ],
   "source": [
    "sns.lmplot(data= df_new, x='rating', y='delivery_time')\n",
    "plt.title('Delivery Time vs Rating') "
   ]
  },
  {
   "cell_type": "markdown",
   "metadata": {},
   "source": [
    "**Key Takeaways:**\n",
    "\n",
    "- The regression line shown in the plot shows a line that is tilted down. This indicates that there is a `negative correlation` between the two features."
   ]
  },
  {
   "cell_type": "markdown",
   "metadata": {},
   "source": [
    "**Calculation of *rho-correlation* and *p-value*.**"
   ]
  },
  {
   "cell_type": "code",
   "execution_count": 114,
   "metadata": {},
   "outputs": [
    {
     "name": "stdout",
     "output_type": "stream",
     "text": [
      "rho-correlation: 0.0007021871445865505, p-value: 0.9809240135302416\n"
     ]
    }
   ],
   "source": [
    "corr_rho, pval_k = stats.spearmanr(df_new['rating'], df_new['delivery_time']) \n",
    "print(f\"rho-correlation: {corr_rho}, p-value: {pval_k}\")"
   ]
  },
  {
   "cell_type": "markdown",
   "metadata": {},
   "source": [
    "**Conclusion:**\n",
    "- Rho-correlation value is approaching zero which indicates that the correlation between the two features is very small or even close to none.\n",
    "- The p-value is above the predetermined critical value (0.05) which means that H0 is accepted. H0 states that there are no correlation between the two features."
   ]
  },
  {
   "cell_type": "markdown",
   "metadata": {},
   "source": [
    "### **`Delivery Time`**"
   ]
  },
  {
   "cell_type": "markdown",
   "metadata": {},
   "source": [
    "According to the statistical inference between `rating` and `delivery_time`, we concluded that there are no correlations between the two. For that reason, we must explore the two features even further to find any findings that would give us additional insights."
   ]
  },
  {
   "cell_type": "markdown",
   "metadata": {},
   "source": [
    "**Descriptive Analysis on `delivery_time`**"
   ]
  },
  {
   "cell_type": "code",
   "execution_count": 115,
   "metadata": {},
   "outputs": [
    {
     "name": "stdout",
     "output_type": "stream",
     "text": [
      "Max delivery time: 33\n",
      "Min delivery time: 15\n",
      "AVG delivery time: 24\n",
      "Median delivery time: 25\n",
      "Modus delivery time: 24\n",
      "Standar Deviasi: 4.93\n",
      "Skewness: -0.24\n",
      "Kurtosis: -0.97\n"
     ]
    }
   ],
   "source": [
    "# Max & Min\n",
    "print(f'Max delivery time: {df_new['delivery_time'].max():.0f}')\n",
    "print(f'Min delivery time: {df_new['delivery_time'].min():.0f}')\n",
    "\n",
    "# Rata - Rata\n",
    "print(f'AVG delivery time: {df_new['delivery_time'].mean():.0f}')\n",
    "\n",
    "# Median\n",
    "print(f'Median delivery time: {df_new['delivery_time'].median():.0f}')\n",
    "\n",
    "# Modus\n",
    "print(f'Modus delivery time: {df_new['delivery_time'].mode().values[0]:.0f}')\n",
    "\n",
    "#Standar Deviasi\n",
    "std = df_new['delivery_time'].std()\n",
    "print(f'Standar Deviasi: {std:.2f}')\n",
    "\n",
    "#Skewness\n",
    "print(f\"Skewness: {df_new['delivery_time'].skew():.2f}\")\n",
    "\n",
    "#Kurtosis\n",
    "print(f\"Kurtosis: {df_new['delivery_time'].kurtosis():.2f}\")"
   ]
  },
  {
   "cell_type": "markdown",
   "metadata": {},
   "source": [
    "**Plotting `delivery_time`**"
   ]
  },
  {
   "cell_type": "code",
   "execution_count": 116,
   "metadata": {},
   "outputs": [
    {
     "data": {
      "text/plain": [
       "<Axes: >"
      ]
     },
     "execution_count": 116,
     "metadata": {},
     "output_type": "execute_result"
    },
    {
     "data": {
      "image/png": "[encoded data removed]",
      "text/plain": [
       "<Figure size 800x400 with 2 Axes>"
      ]
     },
     "metadata": {},
     "output_type": "display_data"
    }
   ],
   "source": [
    "fig, ax = plt.subplots(ncols=2,figsize=(8,4))\n",
    "\n",
    "df_new['delivery_time'].plot(kind='hist',bins=20,ax=ax[0]) #Plot histogram\n",
    "df_new['delivery_time'].plot(kind='box',ax=ax[1]) #Plot Box and Whisker"
   ]
  },
  {
   "cell_type": "markdown",
   "metadata": {},
   "source": [
    "**Key Takeaways:**\n",
    "- The range of value for `delivery_time` is `15 to 33 minutes`.\n",
    "- The box plot shows that there are no outliers.\n",
    "- The skewness value (-0.24) falls between -0.5 and 0.5 which indicates a distribution that is `approximately symmetric`.\n",
    "- The kurtosis value (-0.97) is below 0 which indicates that the data distribution is `platykurtic`."
   ]
  },
  {
   "cell_type": "markdown",
   "metadata": {},
   "source": [
    "#### **1. `delivery_time` based on `cuisinie_type`**"
   ]
  },
  {
   "cell_type": "code",
   "execution_count": 117,
   "metadata": {},
   "outputs": [
    {
     "data": {
      "text/html": [
       "<div>\n",
       "<style scoped>\n",
       "    .dataframe tbody tr th:only-of-type {\n",
       "        vertical-align: middle;\n",
       "    }\n",
       "\n",
       "    .dataframe tbody tr th {\n",
       "        vertical-align: top;\n",
       "    }\n",
       "\n",
       "    .dataframe thead th {\n",
       "        text-align: right;\n",
       "    }\n",
       "</style>\n",
       "<table border=\"1\" class=\"dataframe\">\n",
       "  <thead>\n",
       "    <tr style=\"text-align: right;\">\n",
       "      <th></th>\n",
       "      <th>cuisine_type</th>\n",
       "      <th>delivery_time</th>\n",
       "    </tr>\n",
       "  </thead>\n",
       "  <tbody>\n",
       "    <tr>\n",
       "      <th>2</th>\n",
       "      <td>Mexican</td>\n",
       "      <td>28</td>\n",
       "    </tr>\n",
       "    <tr>\n",
       "      <th>3</th>\n",
       "      <td>American</td>\n",
       "      <td>15</td>\n",
       "    </tr>\n",
       "    <tr>\n",
       "      <th>4</th>\n",
       "      <td>American</td>\n",
       "      <td>24</td>\n",
       "    </tr>\n",
       "    <tr>\n",
       "      <th>5</th>\n",
       "      <td>Indian</td>\n",
       "      <td>24</td>\n",
       "    </tr>\n",
       "    <tr>\n",
       "      <th>7</th>\n",
       "      <td>Mediterranean</td>\n",
       "      <td>30</td>\n",
       "    </tr>\n",
       "    <tr>\n",
       "      <th>...</th>\n",
       "      <td>...</td>\n",
       "      <td>...</td>\n",
       "    </tr>\n",
       "    <tr>\n",
       "      <th>1889</th>\n",
       "      <td>Chinese</td>\n",
       "      <td>30</td>\n",
       "    </tr>\n",
       "    <tr>\n",
       "      <th>1890</th>\n",
       "      <td>Japanese</td>\n",
       "      <td>22</td>\n",
       "    </tr>\n",
       "    <tr>\n",
       "      <th>1893</th>\n",
       "      <td>Mexican</td>\n",
       "      <td>17</td>\n",
       "    </tr>\n",
       "    <tr>\n",
       "      <th>1894</th>\n",
       "      <td>American</td>\n",
       "      <td>19</td>\n",
       "    </tr>\n",
       "    <tr>\n",
       "      <th>1896</th>\n",
       "      <td>Mediterranean</td>\n",
       "      <td>31</td>\n",
       "    </tr>\n",
       "  </tbody>\n",
       "</table>\n",
       "<p>1162 rows × 2 columns</p>\n",
       "</div>"
      ],
      "text/plain": [
       "       cuisine_type  delivery_time\n",
       "2           Mexican             28\n",
       "3          American             15\n",
       "4          American             24\n",
       "5            Indian             24\n",
       "7     Mediterranean             30\n",
       "...             ...            ...\n",
       "1889        Chinese             30\n",
       "1890       Japanese             22\n",
       "1893        Mexican             17\n",
       "1894       American             19\n",
       "1896  Mediterranean             31\n",
       "\n",
       "[1162 rows x 2 columns]"
      ]
     },
     "execution_count": 117,
     "metadata": {},
     "output_type": "execute_result"
    }
   ],
   "source": [
    "df_a = df_new[['cuisine_type', 'delivery_time']] \n",
    "df_a"
   ]
  },
  {
   "cell_type": "code",
   "execution_count": 118,
   "metadata": {},
   "outputs": [
    {
     "data": {
      "text/plain": [
       "array(['Mexican', 'American', 'Indian', 'Mediterranean', 'Chinese',\n",
       "       'Japanese', 'Middle Eastern', 'Italian', 'Thai', 'Southern',\n",
       "       'Spanish', 'French', 'Korean', 'Vietnamese'], dtype=object)"
      ]
     },
     "execution_count": 118,
     "metadata": {},
     "output_type": "execute_result"
    }
   ],
   "source": [
    "df_a['cuisine_type'].unique()"
   ]
  },
  {
   "cell_type": "markdown",
   "metadata": {},
   "source": [
    "Based on the output above, we have 14 unique values in `cuisine_type`."
   ]
  },
  {
   "cell_type": "markdown",
   "metadata": {},
   "source": [
    "**Calculating the average `delivery_time`for each value.**"
   ]
  },
  {
   "cell_type": "code",
   "execution_count": null,
   "metadata": {},
   "outputs": [
    {
     "data": {
      "text/html": [
       "<div>\n",
       "<style scoped>\n",
       "    .dataframe tbody tr th:only-of-type {\n",
       "        vertical-align: middle;\n",
       "    }\n",
       "\n",
       "    .dataframe tbody tr th {\n",
       "        vertical-align: top;\n",
       "    }\n",
       "\n",
       "    .dataframe thead th {\n",
       "        text-align: right;\n",
       "    }\n",
       "</style>\n",
       "<table border=\"1\" class=\"dataframe\">\n",
       "  <thead>\n",
       "    <tr style=\"text-align: right;\">\n",
       "      <th></th>\n",
       "      <th>delivery_time</th>\n",
       "    </tr>\n",
       "    <tr>\n",
       "      <th>cuisine_type</th>\n",
       "      <th></th>\n",
       "    </tr>\n",
       "  </thead>\n",
       "  <tbody>\n",
       "    <tr>\n",
       "      <th>American</th>\n",
       "      <td>24.396739</td>\n",
       "    </tr>\n",
       "    <tr>\n",
       "      <th>Chinese</th>\n",
       "      <td>23.496241</td>\n",
       "    </tr>\n",
       "    <tr>\n",
       "      <th>French</th>\n",
       "      <td>25.100000</td>\n",
       "    </tr>\n",
       "    <tr>\n",
       "      <th>Indian</th>\n",
       "      <td>23.300000</td>\n",
       "    </tr>\n",
       "    <tr>\n",
       "      <th>Italian</th>\n",
       "      <td>25.209302</td>\n",
       "    </tr>\n",
       "    <tr>\n",
       "      <th>Japanese</th>\n",
       "      <td>23.743590</td>\n",
       "    </tr>\n",
       "    <tr>\n",
       "      <th>Korean</th>\n",
       "      <td>21.111111</td>\n",
       "    </tr>\n",
       "    <tr>\n",
       "      <th>Mediterranean</th>\n",
       "      <td>23.187500</td>\n",
       "    </tr>\n",
       "    <tr>\n",
       "      <th>Mexican</th>\n",
       "      <td>24.770833</td>\n",
       "    </tr>\n",
       "    <tr>\n",
       "      <th>Middle Eastern</th>\n",
       "      <td>24.617647</td>\n",
       "    </tr>\n",
       "    <tr>\n",
       "      <th>Southern</th>\n",
       "      <td>22.615385</td>\n",
       "    </tr>\n",
       "    <tr>\n",
       "      <th>Spanish</th>\n",
       "      <td>22.500000</td>\n",
       "    </tr>\n",
       "    <tr>\n",
       "      <th>Thai</th>\n",
       "      <td>23.000000</td>\n",
       "    </tr>\n",
       "    <tr>\n",
       "      <th>Vietnamese</th>\n",
       "      <td>27.200000</td>\n",
       "    </tr>\n",
       "  </tbody>\n",
       "</table>\n",
       "</div>"
      ],
      "text/plain": [
       "                delivery_time\n",
       "cuisine_type                 \n",
       "American            24.396739\n",
       "Chinese             23.496241\n",
       "French              25.100000\n",
       "Indian              23.300000\n",
       "Italian             25.209302\n",
       "Japanese            23.743590\n",
       "Korean              21.111111\n",
       "Mediterranean       23.187500\n",
       "Mexican             24.770833\n",
       "Middle Eastern      24.617647\n",
       "Southern            22.615385\n",
       "Spanish             22.500000\n",
       "Thai                23.000000\n",
       "Vietnamese          27.200000"
      ]
     },
     "execution_count": 119,
     "metadata": {},
     "output_type": "execute_result"
    }
   ],
   "source": [
    "mean_delivery_time = df_a.groupby(df_a['cuisine_type']).mean()\n",
    "mean_delivery_time"
   ]
  },
  {
   "cell_type": "code",
   "execution_count": null,
   "metadata": {},
   "outputs": [
    {
     "name": "stdout",
     "output_type": "stream",
     "text": [
      "AVG delivery time: 23.87 menit\n"
     ]
    }
   ],
   "source": [
    "print(f'AVG delivery time: {mean_delivery_time['delivery_time'].mean():.2f} menit')"
   ]
  },
  {
   "cell_type": "code",
   "execution_count": null,
   "metadata": {},
   "outputs": [
    {
     "data": {
      "image/png": "[encoded data removed]",
      "text/plain": [
       "<Figure size 640x480 with 1 Axes>"
      ]
     },
     "metadata": {},
     "output_type": "display_data"
    }
   ],
   "source": [
    "mean_delivery_time.plot(kind='bar')\n",
    "plt.xlabel('Jenis Restoran') \n",
    "plt.ylabel('Delivery Time') \n",
    "plt.show()"
   ]
  },
  {
   "cell_type": "markdown",
   "metadata": {},
   "source": [
    "**Conclusion:**\n",
    "- There are 14 unique values in `cuisine_type`.\n",
    "- The `average delivery time` is `23.87 minutes`.\n",
    "- `Vietnamese` has the `longest average delivery time` (27.2 minutes) whereas `Korea` has the `fastest average delivery time` (21.1 minutes)."
   ]
  },
  {
   "cell_type": "markdown",
   "metadata": {},
   "source": [
    "#### **2. Amount of orders based on `cuisine_type`**"
   ]
  },
  {
   "cell_type": "code",
   "execution_count": null,
   "metadata": {},
   "outputs": [
    {
     "data": {
      "text/html": [
       "<div>\n",
       "<style scoped>\n",
       "    .dataframe tbody tr th:only-of-type {\n",
       "        vertical-align: middle;\n",
       "    }\n",
       "\n",
       "    .dataframe tbody tr th {\n",
       "        vertical-align: top;\n",
       "    }\n",
       "\n",
       "    .dataframe thead th {\n",
       "        text-align: right;\n",
       "    }\n",
       "</style>\n",
       "<table border=\"1\" class=\"dataframe\">\n",
       "  <thead>\n",
       "    <tr style=\"text-align: right;\">\n",
       "      <th></th>\n",
       "      <th>cuisine_type</th>\n",
       "      <th>order_id</th>\n",
       "    </tr>\n",
       "  </thead>\n",
       "  <tbody>\n",
       "    <tr>\n",
       "      <th>2</th>\n",
       "      <td>Mexican</td>\n",
       "      <td>1477070</td>\n",
       "    </tr>\n",
       "    <tr>\n",
       "      <th>3</th>\n",
       "      <td>American</td>\n",
       "      <td>1477334</td>\n",
       "    </tr>\n",
       "    <tr>\n",
       "      <th>4</th>\n",
       "      <td>American</td>\n",
       "      <td>1478249</td>\n",
       "    </tr>\n",
       "    <tr>\n",
       "      <th>5</th>\n",
       "      <td>Indian</td>\n",
       "      <td>1477224</td>\n",
       "    </tr>\n",
       "    <tr>\n",
       "      <th>7</th>\n",
       "      <td>Mediterranean</td>\n",
       "      <td>1477859</td>\n",
       "    </tr>\n",
       "    <tr>\n",
       "      <th>...</th>\n",
       "      <td>...</td>\n",
       "      <td>...</td>\n",
       "    </tr>\n",
       "    <tr>\n",
       "      <th>1889</th>\n",
       "      <td>Chinese</td>\n",
       "      <td>1478190</td>\n",
       "    </tr>\n",
       "    <tr>\n",
       "      <th>1890</th>\n",
       "      <td>Japanese</td>\n",
       "      <td>1477316</td>\n",
       "    </tr>\n",
       "    <tr>\n",
       "      <th>1893</th>\n",
       "      <td>Mexican</td>\n",
       "      <td>1476701</td>\n",
       "    </tr>\n",
       "    <tr>\n",
       "      <th>1894</th>\n",
       "      <td>American</td>\n",
       "      <td>1477421</td>\n",
       "    </tr>\n",
       "    <tr>\n",
       "      <th>1896</th>\n",
       "      <td>Mediterranean</td>\n",
       "      <td>1477513</td>\n",
       "    </tr>\n",
       "  </tbody>\n",
       "</table>\n",
       "<p>1162 rows × 2 columns</p>\n",
       "</div>"
      ],
      "text/plain": [
       "       cuisine_type  order_id\n",
       "2           Mexican   1477070\n",
       "3          American   1477334\n",
       "4          American   1478249\n",
       "5            Indian   1477224\n",
       "7     Mediterranean   1477859\n",
       "...             ...       ...\n",
       "1889        Chinese   1478190\n",
       "1890       Japanese   1477316\n",
       "1893        Mexican   1476701\n",
       "1894       American   1477421\n",
       "1896  Mediterranean   1477513\n",
       "\n",
       "[1162 rows x 2 columns]"
      ]
     },
     "execution_count": 122,
     "metadata": {},
     "output_type": "execute_result"
    }
   ],
   "source": [
    "df_b = df_new[['cuisine_type', 'order_id']] \n",
    "df_b"
   ]
  },
  {
   "cell_type": "code",
   "execution_count": null,
   "metadata": {},
   "outputs": [
    {
     "data": {
      "text/html": [
       "<div>\n",
       "<style scoped>\n",
       "    .dataframe tbody tr th:only-of-type {\n",
       "        vertical-align: middle;\n",
       "    }\n",
       "\n",
       "    .dataframe tbody tr th {\n",
       "        vertical-align: top;\n",
       "    }\n",
       "\n",
       "    .dataframe thead th {\n",
       "        text-align: right;\n",
       "    }\n",
       "</style>\n",
       "<table border=\"1\" class=\"dataframe\">\n",
       "  <thead>\n",
       "    <tr style=\"text-align: right;\">\n",
       "      <th></th>\n",
       "      <th>order_id</th>\n",
       "    </tr>\n",
       "    <tr>\n",
       "      <th>cuisine_type</th>\n",
       "      <th></th>\n",
       "    </tr>\n",
       "  </thead>\n",
       "  <tbody>\n",
       "    <tr>\n",
       "      <th>American</th>\n",
       "      <td>368</td>\n",
       "    </tr>\n",
       "    <tr>\n",
       "      <th>Chinese</th>\n",
       "      <td>133</td>\n",
       "    </tr>\n",
       "    <tr>\n",
       "      <th>French</th>\n",
       "      <td>10</td>\n",
       "    </tr>\n",
       "    <tr>\n",
       "      <th>Indian</th>\n",
       "      <td>50</td>\n",
       "    </tr>\n",
       "    <tr>\n",
       "      <th>Italian</th>\n",
       "      <td>172</td>\n",
       "    </tr>\n",
       "    <tr>\n",
       "      <th>Japanese</th>\n",
       "      <td>273</td>\n",
       "    </tr>\n",
       "    <tr>\n",
       "      <th>Korean</th>\n",
       "      <td>9</td>\n",
       "    </tr>\n",
       "    <tr>\n",
       "      <th>Mediterranean</th>\n",
       "      <td>32</td>\n",
       "    </tr>\n",
       "    <tr>\n",
       "      <th>Mexican</th>\n",
       "      <td>48</td>\n",
       "    </tr>\n",
       "    <tr>\n",
       "      <th>Middle Eastern</th>\n",
       "      <td>34</td>\n",
       "    </tr>\n",
       "    <tr>\n",
       "      <th>Southern</th>\n",
       "      <td>13</td>\n",
       "    </tr>\n",
       "    <tr>\n",
       "      <th>Spanish</th>\n",
       "      <td>6</td>\n",
       "    </tr>\n",
       "    <tr>\n",
       "      <th>Thai</th>\n",
       "      <td>9</td>\n",
       "    </tr>\n",
       "    <tr>\n",
       "      <th>Vietnamese</th>\n",
       "      <td>5</td>\n",
       "    </tr>\n",
       "  </tbody>\n",
       "</table>\n",
       "</div>"
      ],
      "text/plain": [
       "                order_id\n",
       "cuisine_type            \n",
       "American             368\n",
       "Chinese              133\n",
       "French                10\n",
       "Indian                50\n",
       "Italian              172\n",
       "Japanese             273\n",
       "Korean                 9\n",
       "Mediterranean         32\n",
       "Mexican               48\n",
       "Middle Eastern        34\n",
       "Southern              13\n",
       "Spanish                6\n",
       "Thai                   9\n",
       "Vietnamese             5"
      ]
     },
     "execution_count": 123,
     "metadata": {},
     "output_type": "execute_result"
    }
   ],
   "source": [
    "count_order = df_b.groupby(df_b['cuisine_type']).count()\n",
    "count_order"
   ]
  },
  {
   "cell_type": "code",
   "execution_count": null,
   "metadata": {},
   "outputs": [
    {
     "data": {
      "image/png": "[encoded data removed]",
      "text/plain": [
       "<Figure size 640x480 with 1 Axes>"
      ]
     },
     "metadata": {},
     "output_type": "display_data"
    }
   ],
   "source": [
    "count_order.plot(kind='bar')\n",
    "plt.xlabel('Jenis Restoran') \n",
    "plt.ylabel('Jumlah Order') \n",
    "plt.show() "
   ]
  },
  {
   "cell_type": "markdown",
   "metadata": {},
   "source": [
    "**Key Takeaways:**\n",
    "- Based on the bar chart above, the top `cuisine_type` based on amount of orders are `American`, `Japanese`, `Chinese`, and `Italian`. All of them has an order amount above 100 monthly."
   ]
  },
  {
   "cell_type": "markdown",
   "metadata": {},
   "source": [
    "**Comparing amount of orders and average delivery time.**"
   ]
  },
  {
   "cell_type": "code",
   "execution_count": null,
   "metadata": {},
   "outputs": [
    {
     "data": {
      "text/html": [
       "<div>\n",
       "<style scoped>\n",
       "    .dataframe tbody tr th:only-of-type {\n",
       "        vertical-align: middle;\n",
       "    }\n",
       "\n",
       "    .dataframe tbody tr th {\n",
       "        vertical-align: top;\n",
       "    }\n",
       "\n",
       "    .dataframe thead th {\n",
       "        text-align: right;\n",
       "    }\n",
       "</style>\n",
       "<table border=\"1\" class=\"dataframe\">\n",
       "  <thead>\n",
       "    <tr style=\"text-align: right;\">\n",
       "      <th></th>\n",
       "      <th>order_id</th>\n",
       "      <th>delivery_time</th>\n",
       "    </tr>\n",
       "    <tr>\n",
       "      <th>cuisine_type</th>\n",
       "      <th></th>\n",
       "      <th></th>\n",
       "    </tr>\n",
       "  </thead>\n",
       "  <tbody>\n",
       "    <tr>\n",
       "      <th>American</th>\n",
       "      <td>368</td>\n",
       "      <td>24.396739</td>\n",
       "    </tr>\n",
       "    <tr>\n",
       "      <th>Chinese</th>\n",
       "      <td>133</td>\n",
       "      <td>23.496241</td>\n",
       "    </tr>\n",
       "    <tr>\n",
       "      <th>French</th>\n",
       "      <td>10</td>\n",
       "      <td>25.100000</td>\n",
       "    </tr>\n",
       "    <tr>\n",
       "      <th>Indian</th>\n",
       "      <td>50</td>\n",
       "      <td>23.300000</td>\n",
       "    </tr>\n",
       "    <tr>\n",
       "      <th>Italian</th>\n",
       "      <td>172</td>\n",
       "      <td>25.209302</td>\n",
       "    </tr>\n",
       "    <tr>\n",
       "      <th>Japanese</th>\n",
       "      <td>273</td>\n",
       "      <td>23.743590</td>\n",
       "    </tr>\n",
       "    <tr>\n",
       "      <th>Korean</th>\n",
       "      <td>9</td>\n",
       "      <td>21.111111</td>\n",
       "    </tr>\n",
       "    <tr>\n",
       "      <th>Mediterranean</th>\n",
       "      <td>32</td>\n",
       "      <td>23.187500</td>\n",
       "    </tr>\n",
       "    <tr>\n",
       "      <th>Mexican</th>\n",
       "      <td>48</td>\n",
       "      <td>24.770833</td>\n",
       "    </tr>\n",
       "    <tr>\n",
       "      <th>Middle Eastern</th>\n",
       "      <td>34</td>\n",
       "      <td>24.617647</td>\n",
       "    </tr>\n",
       "    <tr>\n",
       "      <th>Southern</th>\n",
       "      <td>13</td>\n",
       "      <td>22.615385</td>\n",
       "    </tr>\n",
       "    <tr>\n",
       "      <th>Spanish</th>\n",
       "      <td>6</td>\n",
       "      <td>22.500000</td>\n",
       "    </tr>\n",
       "    <tr>\n",
       "      <th>Thai</th>\n",
       "      <td>9</td>\n",
       "      <td>23.000000</td>\n",
       "    </tr>\n",
       "    <tr>\n",
       "      <th>Vietnamese</th>\n",
       "      <td>5</td>\n",
       "      <td>27.200000</td>\n",
       "    </tr>\n",
       "  </tbody>\n",
       "</table>\n",
       "</div>"
      ],
      "text/plain": [
       "                order_id  delivery_time\n",
       "cuisine_type                           \n",
       "American             368      24.396739\n",
       "Chinese              133      23.496241\n",
       "French                10      25.100000\n",
       "Indian                50      23.300000\n",
       "Italian              172      25.209302\n",
       "Japanese             273      23.743590\n",
       "Korean                 9      21.111111\n",
       "Mediterranean         32      23.187500\n",
       "Mexican               48      24.770833\n",
       "Middle Eastern        34      24.617647\n",
       "Southern              13      22.615385\n",
       "Spanish                6      22.500000\n",
       "Thai                   9      23.000000\n",
       "Vietnamese             5      27.200000"
      ]
     },
     "execution_count": 125,
     "metadata": {},
     "output_type": "execute_result"
    }
   ],
   "source": [
    "type_compare = pd.concat([count_order, mean_delivery_time], axis=1)\n",
    "type_compare"
   ]
  },
  {
   "cell_type": "code",
   "execution_count": null,
   "metadata": {},
   "outputs": [
    {
     "data": {
      "text/plain": [
       "<seaborn.axisgrid.FacetGrid at 0x1bbb2d981d0>"
      ]
     },
     "execution_count": 126,
     "metadata": {},
     "output_type": "execute_result"
    },
    {
     "data": {
      "image/png": "[encoded data removed]",
      "text/plain": [
       "<Figure size 500x500 with 1 Axes>"
      ]
     },
     "metadata": {},
     "output_type": "display_data"
    }
   ],
   "source": [
    "sns.lmplot(data=type_compare,x='order_id', y='delivery_time')"
   ]
  },
  {
   "cell_type": "markdown",
   "metadata": {},
   "source": [
    "**Key Takeaways:**\n",
    "- The regression line above shows a line with a slightly tilt upwards. This indicates a `positive correlation` between the two features."
   ]
  },
  {
   "cell_type": "markdown",
   "metadata": {},
   "source": [
    "Next, we will do a hypothesis testing and correlation analysis using` Kendall's method` due to the following reasons.\n",
    "- Comparison between categorical and numerical data."
   ]
  },
  {
   "cell_type": "markdown",
   "metadata": {},
   "source": [
    "**Hypothesis:**\n",
    "- **H0**: There are no correlations between (count `order_id`) and `delivery_time`\n",
    "- **H1**: There's a correlation between (count `order_id`) and `delivery_time`"
   ]
  },
  {
   "cell_type": "markdown",
   "metadata": {},
   "source": [
    "**Calculation**"
   ]
  },
  {
   "cell_type": "code",
   "execution_count": 127,
   "metadata": {},
   "outputs": [
    {
     "name": "stdout",
     "output_type": "stream",
     "text": [
      "tau-correlation: 0.27, p-value: 0.18822417619285137\n"
     ]
    }
   ],
   "source": [
    "corr_tau, pval_k = stats.kendalltau(type_compare['order_id'], type_compare['delivery_time']) \n",
    "print(f\"tau-correlation: {corr_tau:.2f}, p-value: {pval_k}\")"
   ]
  },
  {
   "cell_type": "markdown",
   "metadata": {},
   "source": [
    "**Conclusion:**\n",
    "- The top 4 `cuisine_type` are `American`, `Japanese`, `Chinese`, and `Italian` with a total of 368 orders monthly.\n",
    "- The correlation value (0.27) indicates a positive correlation between the two features.\n",
    "- Based on the hypothesis testing, the p-value (0.19) is smaller than the critical value (0.05) which means that H0 is accepted."
   ]
  },
  {
   "cell_type": "markdown",
   "metadata": {},
   "source": [
    "#### **3. `food_preparation_time` vs `delivery_time`**"
   ]
  },
  {
   "cell_type": "markdown",
   "metadata": {},
   "source": [
    "**Mencari korelasi antara waktu untuk *prep* dengan waktu *delivery*.**"
   ]
  },
  {
   "cell_type": "code",
   "execution_count": null,
   "metadata": {},
   "outputs": [
    {
     "data": {
      "text/html": [
       "<div>\n",
       "<style scoped>\n",
       "    .dataframe tbody tr th:only-of-type {\n",
       "        vertical-align: middle;\n",
       "    }\n",
       "\n",
       "    .dataframe tbody tr th {\n",
       "        vertical-align: top;\n",
       "    }\n",
       "\n",
       "    .dataframe thead th {\n",
       "        text-align: right;\n",
       "    }\n",
       "</style>\n",
       "<table border=\"1\" class=\"dataframe\">\n",
       "  <thead>\n",
       "    <tr style=\"text-align: right;\">\n",
       "      <th></th>\n",
       "      <th>cuisine_type</th>\n",
       "      <th>food_preparation_time</th>\n",
       "      <th>delivery_time</th>\n",
       "    </tr>\n",
       "  </thead>\n",
       "  <tbody>\n",
       "    <tr>\n",
       "      <th>2</th>\n",
       "      <td>Mexican</td>\n",
       "      <td>23</td>\n",
       "      <td>28</td>\n",
       "    </tr>\n",
       "    <tr>\n",
       "      <th>3</th>\n",
       "      <td>American</td>\n",
       "      <td>25</td>\n",
       "      <td>15</td>\n",
       "    </tr>\n",
       "    <tr>\n",
       "      <th>4</th>\n",
       "      <td>American</td>\n",
       "      <td>25</td>\n",
       "      <td>24</td>\n",
       "    </tr>\n",
       "    <tr>\n",
       "      <th>5</th>\n",
       "      <td>Indian</td>\n",
       "      <td>20</td>\n",
       "      <td>24</td>\n",
       "    </tr>\n",
       "    <tr>\n",
       "      <th>7</th>\n",
       "      <td>Mediterranean</td>\n",
       "      <td>33</td>\n",
       "      <td>30</td>\n",
       "    </tr>\n",
       "    <tr>\n",
       "      <th>...</th>\n",
       "      <td>...</td>\n",
       "      <td>...</td>\n",
       "      <td>...</td>\n",
       "    </tr>\n",
       "    <tr>\n",
       "      <th>1889</th>\n",
       "      <td>Chinese</td>\n",
       "      <td>33</td>\n",
       "      <td>30</td>\n",
       "    </tr>\n",
       "    <tr>\n",
       "      <th>1890</th>\n",
       "      <td>Japanese</td>\n",
       "      <td>20</td>\n",
       "      <td>22</td>\n",
       "    </tr>\n",
       "    <tr>\n",
       "      <th>1893</th>\n",
       "      <td>Mexican</td>\n",
       "      <td>31</td>\n",
       "      <td>17</td>\n",
       "    </tr>\n",
       "    <tr>\n",
       "      <th>1894</th>\n",
       "      <td>American</td>\n",
       "      <td>31</td>\n",
       "      <td>19</td>\n",
       "    </tr>\n",
       "    <tr>\n",
       "      <th>1896</th>\n",
       "      <td>Mediterranean</td>\n",
       "      <td>23</td>\n",
       "      <td>31</td>\n",
       "    </tr>\n",
       "  </tbody>\n",
       "</table>\n",
       "<p>1162 rows × 3 columns</p>\n",
       "</div>"
      ],
      "text/plain": [
       "       cuisine_type  food_preparation_time  delivery_time\n",
       "2           Mexican                     23             28\n",
       "3          American                     25             15\n",
       "4          American                     25             24\n",
       "5            Indian                     20             24\n",
       "7     Mediterranean                     33             30\n",
       "...             ...                    ...            ...\n",
       "1889        Chinese                     33             30\n",
       "1890       Japanese                     20             22\n",
       "1893        Mexican                     31             17\n",
       "1894       American                     31             19\n",
       "1896  Mediterranean                     23             31\n",
       "\n",
       "[1162 rows x 3 columns]"
      ]
     },
     "execution_count": 128,
     "metadata": {},
     "output_type": "execute_result"
    }
   ],
   "source": [
    "df_c = df_new[['cuisine_type', 'food_preparation_time', 'delivery_time']]\n",
    "df_c "
   ]
  },
  {
   "cell_type": "code",
   "execution_count": 129,
   "metadata": {},
   "outputs": [
    {
     "data": {
      "text/plain": [
       "<seaborn.axisgrid.FacetGrid at 0x1bbb1873f80>"
      ]
     },
     "execution_count": 129,
     "metadata": {},
     "output_type": "execute_result"
    },
    {
     "data": {
      "image/png": "[encoded data removed]",
      "text/plain": [
       "<Figure size 500x500 with 1 Axes>"
      ]
     },
     "metadata": {},
     "output_type": "display_data"
    }
   ],
   "source": [
    "sns.lmplot(data=df_c,x='food_preparation_time', y='delivery_time')"
   ]
  },
  {
   "cell_type": "markdown",
   "metadata": {},
   "source": [
    "**Key Takeaways:**\n",
    "- The regression line show a line that is slightly tilted downwards. This indicates a negative correlation between `food_preparation_time` and `delivery_time`."
   ]
  },
  {
   "cell_type": "markdown",
   "metadata": {},
   "source": [
    "Metode yang akan digunakan untuk uji hipotesis adalah **metode Kendall** dengan alasan berikut:\n",
    "- Tujuannya adalah untuk mencari korelasi\n",
    "- Kedua variabel merupakan data numerikal"
   ]
  },
  {
   "cell_type": "markdown",
   "metadata": {},
   "source": [
    "Next, we will do a hypothesis testing and correlation analysis using Spearman's method due to the following reasons.\n",
    "- Both features are numerical data.\n",
    "- Spearman doesn't assume a specific distribution."
   ]
  },
  {
   "cell_type": "markdown",
   "metadata": {},
   "source": [
    "**Hypothesis:**\n",
    "- **H0**: There is no correlation between **`food_preparation_time`** and **`delivery_time`**\n",
    "- **H1**: There's a correlation between **`food_preparation_time`** and **`delivery_time`**"
   ]
  },
  {
   "cell_type": "code",
   "execution_count": 150,
   "metadata": {},
   "outputs": [
    {
     "name": "stdout",
     "output_type": "stream",
     "text": [
      "rho-correlation: -0.01, p-value: 0.7141492348593603\n"
     ]
    }
   ],
   "source": [
    "corr_rho, pval_k = stats.spearmanr(df_c['food_preparation_time'], df_c['delivery_time'])\n",
    "\n",
    "print(f\"rho-correlation: {corr_rho:.2f}, p-value: {pval_k}\")"
   ]
  },
  {
   "cell_type": "markdown",
   "metadata": {},
   "source": [
    "**Conclusion:**\n",
    "- The correlation value (-0.01) indicates a weak negative correlation between the two features.\n",
    "- P-value (0.71) is higher than the critical value which means that H0 is accepted."
   ]
  },
  {
   "cell_type": "markdown",
   "metadata": {},
   "source": [
    "#### **4. `delivery_time` based on `day_of_the_week`**"
   ]
  },
  {
   "cell_type": "code",
   "execution_count": 131,
   "metadata": {},
   "outputs": [
    {
     "data": {
      "text/html": [
       "<div>\n",
       "<style scoped>\n",
       "    .dataframe tbody tr th:only-of-type {\n",
       "        vertical-align: middle;\n",
       "    }\n",
       "\n",
       "    .dataframe tbody tr th {\n",
       "        vertical-align: top;\n",
       "    }\n",
       "\n",
       "    .dataframe thead th {\n",
       "        text-align: right;\n",
       "    }\n",
       "</style>\n",
       "<table border=\"1\" class=\"dataframe\">\n",
       "  <thead>\n",
       "    <tr style=\"text-align: right;\">\n",
       "      <th></th>\n",
       "      <th>day_of_the_week</th>\n",
       "      <th>delivery_time</th>\n",
       "    </tr>\n",
       "  </thead>\n",
       "  <tbody>\n",
       "    <tr>\n",
       "      <th>2</th>\n",
       "      <td>Weekday</td>\n",
       "      <td>28</td>\n",
       "    </tr>\n",
       "    <tr>\n",
       "      <th>3</th>\n",
       "      <td>Weekend</td>\n",
       "      <td>15</td>\n",
       "    </tr>\n",
       "    <tr>\n",
       "      <th>4</th>\n",
       "      <td>Weekday</td>\n",
       "      <td>24</td>\n",
       "    </tr>\n",
       "    <tr>\n",
       "      <th>5</th>\n",
       "      <td>Weekday</td>\n",
       "      <td>24</td>\n",
       "    </tr>\n",
       "    <tr>\n",
       "      <th>7</th>\n",
       "      <td>Weekday</td>\n",
       "      <td>30</td>\n",
       "    </tr>\n",
       "    <tr>\n",
       "      <th>...</th>\n",
       "      <td>...</td>\n",
       "      <td>...</td>\n",
       "    </tr>\n",
       "    <tr>\n",
       "      <th>1889</th>\n",
       "      <td>Weekday</td>\n",
       "      <td>30</td>\n",
       "    </tr>\n",
       "    <tr>\n",
       "      <th>1890</th>\n",
       "      <td>Weekend</td>\n",
       "      <td>22</td>\n",
       "    </tr>\n",
       "    <tr>\n",
       "      <th>1893</th>\n",
       "      <td>Weekend</td>\n",
       "      <td>17</td>\n",
       "    </tr>\n",
       "    <tr>\n",
       "      <th>1894</th>\n",
       "      <td>Weekend</td>\n",
       "      <td>19</td>\n",
       "    </tr>\n",
       "    <tr>\n",
       "      <th>1896</th>\n",
       "      <td>Weekday</td>\n",
       "      <td>31</td>\n",
       "    </tr>\n",
       "  </tbody>\n",
       "</table>\n",
       "<p>1162 rows × 2 columns</p>\n",
       "</div>"
      ],
      "text/plain": [
       "     day_of_the_week  delivery_time\n",
       "2            Weekday             28\n",
       "3            Weekend             15\n",
       "4            Weekday             24\n",
       "5            Weekday             24\n",
       "7            Weekday             30\n",
       "...              ...            ...\n",
       "1889         Weekday             30\n",
       "1890         Weekend             22\n",
       "1893         Weekend             17\n",
       "1894         Weekend             19\n",
       "1896         Weekday             31\n",
       "\n",
       "[1162 rows x 2 columns]"
      ]
     },
     "execution_count": 131,
     "metadata": {},
     "output_type": "execute_result"
    }
   ],
   "source": [
    "df_d = df_new[['day_of_the_week', 'delivery_time']] #Mem-filter dataframe \"df_new\"\n",
    "df_d #Tampilkan dataframe"
   ]
  },
  {
   "cell_type": "code",
   "execution_count": 132,
   "metadata": {},
   "outputs": [
    {
     "data": {
      "text/html": [
       "<div>\n",
       "<style scoped>\n",
       "    .dataframe tbody tr th:only-of-type {\n",
       "        vertical-align: middle;\n",
       "    }\n",
       "\n",
       "    .dataframe tbody tr th {\n",
       "        vertical-align: top;\n",
       "    }\n",
       "\n",
       "    .dataframe thead th {\n",
       "        text-align: right;\n",
       "    }\n",
       "</style>\n",
       "<table border=\"1\" class=\"dataframe\">\n",
       "  <thead>\n",
       "    <tr style=\"text-align: right;\">\n",
       "      <th></th>\n",
       "      <th>delivery_time</th>\n",
       "    </tr>\n",
       "    <tr>\n",
       "      <th>day_of_the_week</th>\n",
       "      <th></th>\n",
       "    </tr>\n",
       "  </thead>\n",
       "  <tbody>\n",
       "    <tr>\n",
       "      <th>Weekday</th>\n",
       "      <td>28.305882</td>\n",
       "    </tr>\n",
       "    <tr>\n",
       "      <th>Weekend</th>\n",
       "      <td>22.436740</td>\n",
       "    </tr>\n",
       "  </tbody>\n",
       "</table>\n",
       "</div>"
      ],
      "text/plain": [
       "                 delivery_time\n",
       "day_of_the_week               \n",
       "Weekday              28.305882\n",
       "Weekend              22.436740"
      ]
     },
     "execution_count": 132,
     "metadata": {},
     "output_type": "execute_result"
    }
   ],
   "source": [
    "df_d.groupby(df_d['day_of_the_week']).mean() #Menghitung rata-rata dari delivery time berdasarkan hari order"
   ]
  },
  {
   "cell_type": "markdown",
   "metadata": {},
   "source": [
    "**Key Takeaways:**\n",
    "- Based on the result above, the average delivery time is faster during weekend compared to weekdays.\n",
    "\n",
    "To find out the difference between weekdays and weekend, we need to explore more."
   ]
  },
  {
   "cell_type": "markdown",
   "metadata": {},
   "source": [
    "### **Explore data based on day**"
   ]
  },
  {
   "cell_type": "markdown",
   "metadata": {},
   "source": [
    "#### **1. Amount of order based on day**"
   ]
  },
  {
   "cell_type": "code",
   "execution_count": null,
   "metadata": {},
   "outputs": [
    {
     "data": {
      "text/html": [
       "<div>\n",
       "<style scoped>\n",
       "    .dataframe tbody tr th:only-of-type {\n",
       "        vertical-align: middle;\n",
       "    }\n",
       "\n",
       "    .dataframe tbody tr th {\n",
       "        vertical-align: top;\n",
       "    }\n",
       "\n",
       "    .dataframe thead th {\n",
       "        text-align: right;\n",
       "    }\n",
       "</style>\n",
       "<table border=\"1\" class=\"dataframe\">\n",
       "  <thead>\n",
       "    <tr style=\"text-align: right;\">\n",
       "      <th></th>\n",
       "      <th>order_id</th>\n",
       "      <th>day_of_the_week</th>\n",
       "    </tr>\n",
       "  </thead>\n",
       "  <tbody>\n",
       "    <tr>\n",
       "      <th>2</th>\n",
       "      <td>1477070</td>\n",
       "      <td>Weekday</td>\n",
       "    </tr>\n",
       "    <tr>\n",
       "      <th>3</th>\n",
       "      <td>1477334</td>\n",
       "      <td>Weekend</td>\n",
       "    </tr>\n",
       "    <tr>\n",
       "      <th>4</th>\n",
       "      <td>1478249</td>\n",
       "      <td>Weekday</td>\n",
       "    </tr>\n",
       "    <tr>\n",
       "      <th>5</th>\n",
       "      <td>1477224</td>\n",
       "      <td>Weekday</td>\n",
       "    </tr>\n",
       "    <tr>\n",
       "      <th>7</th>\n",
       "      <td>1477859</td>\n",
       "      <td>Weekday</td>\n",
       "    </tr>\n",
       "    <tr>\n",
       "      <th>...</th>\n",
       "      <td>...</td>\n",
       "      <td>...</td>\n",
       "    </tr>\n",
       "    <tr>\n",
       "      <th>1889</th>\n",
       "      <td>1478190</td>\n",
       "      <td>Weekday</td>\n",
       "    </tr>\n",
       "    <tr>\n",
       "      <th>1890</th>\n",
       "      <td>1477316</td>\n",
       "      <td>Weekend</td>\n",
       "    </tr>\n",
       "    <tr>\n",
       "      <th>1893</th>\n",
       "      <td>1476701</td>\n",
       "      <td>Weekend</td>\n",
       "    </tr>\n",
       "    <tr>\n",
       "      <th>1894</th>\n",
       "      <td>1477421</td>\n",
       "      <td>Weekend</td>\n",
       "    </tr>\n",
       "    <tr>\n",
       "      <th>1896</th>\n",
       "      <td>1477513</td>\n",
       "      <td>Weekday</td>\n",
       "    </tr>\n",
       "  </tbody>\n",
       "</table>\n",
       "<p>1162 rows × 2 columns</p>\n",
       "</div>"
      ],
      "text/plain": [
       "      order_id day_of_the_week\n",
       "2      1477070         Weekday\n",
       "3      1477334         Weekend\n",
       "4      1478249         Weekday\n",
       "5      1477224         Weekday\n",
       "7      1477859         Weekday\n",
       "...        ...             ...\n",
       "1889   1478190         Weekday\n",
       "1890   1477316         Weekend\n",
       "1893   1476701         Weekend\n",
       "1894   1477421         Weekend\n",
       "1896   1477513         Weekday\n",
       "\n",
       "[1162 rows x 2 columns]"
      ]
     },
     "execution_count": 133,
     "metadata": {},
     "output_type": "execute_result"
    }
   ],
   "source": [
    "df_e = df_new[['order_id', 'day_of_the_week']]\n",
    "df_e"
   ]
  },
  {
   "cell_type": "code",
   "execution_count": 134,
   "metadata": {},
   "outputs": [
    {
     "data": {
      "text/html": [
       "<div>\n",
       "<style scoped>\n",
       "    .dataframe tbody tr th:only-of-type {\n",
       "        vertical-align: middle;\n",
       "    }\n",
       "\n",
       "    .dataframe tbody tr th {\n",
       "        vertical-align: top;\n",
       "    }\n",
       "\n",
       "    .dataframe thead th {\n",
       "        text-align: right;\n",
       "    }\n",
       "</style>\n",
       "<table border=\"1\" class=\"dataframe\">\n",
       "  <thead>\n",
       "    <tr style=\"text-align: right;\">\n",
       "      <th></th>\n",
       "      <th>order_id</th>\n",
       "    </tr>\n",
       "    <tr>\n",
       "      <th>day_of_the_week</th>\n",
       "      <th></th>\n",
       "    </tr>\n",
       "  </thead>\n",
       "  <tbody>\n",
       "    <tr>\n",
       "      <th>Weekday</th>\n",
       "      <td>340</td>\n",
       "    </tr>\n",
       "    <tr>\n",
       "      <th>Weekend</th>\n",
       "      <td>822</td>\n",
       "    </tr>\n",
       "  </tbody>\n",
       "</table>\n",
       "</div>"
      ],
      "text/plain": [
       "                 order_id\n",
       "day_of_the_week          \n",
       "Weekday               340\n",
       "Weekend               822"
      ]
     },
     "execution_count": 134,
     "metadata": {},
     "output_type": "execute_result"
    }
   ],
   "source": [
    "compare_day = df_e.groupby(df_e['day_of_the_week']).count() #Menghitung jumlah order berdasarkan hari order\n",
    "compare_day"
   ]
  },
  {
   "cell_type": "code",
   "execution_count": 135,
   "metadata": {},
   "outputs": [
    {
     "data": {
      "image/png": "[encoded data removed]",
      "text/plain": [
       "<Figure size 640x480 with 1 Axes>"
      ]
     },
     "metadata": {},
     "output_type": "display_data"
    }
   ],
   "source": [
    "compare_day.plot(kind='bar')\n",
    "plt.xlabel('Hari Order') #Judul sumbu x\n",
    "plt.ylabel('Jumlah Order') #Judul sumbu y\n",
    "plt.show() #Menampilkan plot"
   ]
  },
  {
   "cell_type": "markdown",
   "metadata": {},
   "source": [
    "**Notes:**\n",
    "\n",
    "Berdasarkan output di atas, jumlah order jauh lebih banyak pada saat *weekend* ketimbang saat *weekday*. Meskipun demikian, rata-rata *delivery time* untuk *weekend* masih lebih cepat. Karena kurangnya data, asumsi dari saya adalah sebagai berikut:\n",
    "\n",
    "1. Armada yang di-*deploy* saat *weekend* lebih banyak dari armada untuk *weekday*.\n",
    "2. *Multiple order* dalam satu restoran yang sama bisa terjadi karena ada kemungkinan *demand* yang lebih tinggi terhadap restoran pada saat *weekend* sehingga armada dapat membawa lebih dari satu *order* dalam sekali jalan."
   ]
  },
  {
   "cell_type": "markdown",
   "metadata": {},
   "source": [
    "**Key Takeaways:**\n",
    "- Based on the results, we can conclude that the amount of orders is higher during the weekend. Despite that, the average delivery time is also faster during the weekend compared to weekdays. These are the assumptions on what might be the cause:\n",
    "1. There are more fleet during the weekend.\n",
    "2. Multiple orders might be the reasons on why the average delivery time during the weekend is faster."
   ]
  },
  {
   "cell_type": "markdown",
   "metadata": {},
   "source": [
    "### **Explore `rating`**"
   ]
  },
  {
   "cell_type": "code",
   "execution_count": 136,
   "metadata": {},
   "outputs": [
    {
     "name": "stdout",
     "output_type": "stream",
     "text": [
      "Max rating: 5\n",
      "Min rating: 3\n",
      "AVG rating: 4\n",
      "Median rating: 5\n",
      "Modus rating: 5\n",
      "Standar Deviasi: 0.74\n",
      "Skewness: -0.65\n",
      "Kurtosis: -0.92\n"
     ]
    }
   ],
   "source": [
    "# Max & Min\n",
    "print(f'Max rating: {df_new['rating'].max():.0f}')\n",
    "print(f'Min rating: {df_new['rating'].min():.0f}')\n",
    "\n",
    "# Rata - Rata\n",
    "print(f'AVG rating: {df_new['rating'].mean():.0f}')\n",
    "\n",
    "# Median\n",
    "print(f'Median rating: {df_new['rating'].median():.0f}')\n",
    "\n",
    "# Modus\n",
    "print(f'Modus rating: {df_new['rating'].mode().values[0]:.0f}')\n",
    "\n",
    "#Standar Deviasi\n",
    "std = df_new['rating'].std()\n",
    "print(f'Standar Deviasi: {std:.2f}')\n",
    "\n",
    "#Skewness\n",
    "print(f\"Skewness: {df_new['rating'].skew():.2f}\")\n",
    "\n",
    "#Kurtosis\n",
    "print(f\"Kurtosis: {df_new['rating'].kurtosis():.2f}\")"
   ]
  },
  {
   "cell_type": "code",
   "execution_count": 137,
   "metadata": {},
   "outputs": [
    {
     "data": {
      "text/plain": [
       "<Axes: >"
      ]
     },
     "execution_count": 137,
     "metadata": {},
     "output_type": "execute_result"
    },
    {
     "data": {
      "image/png": "[encoded data removed]",
      "text/plain": [
       "<Figure size 800x400 with 2 Axes>"
      ]
     },
     "metadata": {},
     "output_type": "display_data"
    }
   ],
   "source": [
    "fig, ax = plt.subplots(ncols=2,figsize=(8,4))\n",
    "\n",
    "df_new['rating'].plot(kind='hist',bins=20,ax=ax[0]) #Plot histogram\n",
    "df_new['rating'].plot(kind='box',ax=ax[1]) #Plot Box and Whisker"
   ]
  },
  {
   "cell_type": "markdown",
   "metadata": {},
   "source": [
    "**Notes:**\n",
    "- *Range* rating dari **3** hingga **5**.\n",
    "- Nilai mean < median & modus yang menandakan bahwa pola distribusinya tergolong ke \"***negative skew***\". Hal ini tergambarkan pada plot histogram di atas.\n",
    "- Pada plot box di atas tidak terlihat indikasi bahwa data memiliki *outlier*.\n",
    "- Nilai *skewness* **(-0.65)** berada di antara -0.5 dan -1.0 yang artinya distribusi data masuk ke kategori \"***moderately skewed***\".\n",
    "- Nilai *kurtosis* **(-0.92)** berada di bawah 0 yang artinya distribusi data masuk ke kategori \"***platykurtic***\"."
   ]
  },
  {
   "cell_type": "markdown",
   "metadata": {},
   "source": [
    "**Key Notes:**\n",
    "- The value of `rating` varies between 3 and 5.\n",
    "- The value of mean is lower than median and mode which indicates a `negative skew` on the data distribution. This is also depicted by the skewness value (-0.65).\n",
    "- The kurtosis value (-0.92) indicates that the data distribution is `platykurtic`.\n",
    "- The box plot indicates that there are `no outliers`."
   ]
  },
  {
   "cell_type": "markdown",
   "metadata": {},
   "source": [
    "#### **1. `rating` vs `food_preparation_time`**"
   ]
  },
  {
   "cell_type": "code",
   "execution_count": null,
   "metadata": {},
   "outputs": [
    {
     "data": {
      "text/html": [
       "<div>\n",
       "<style scoped>\n",
       "    .dataframe tbody tr th:only-of-type {\n",
       "        vertical-align: middle;\n",
       "    }\n",
       "\n",
       "    .dataframe tbody tr th {\n",
       "        vertical-align: top;\n",
       "    }\n",
       "\n",
       "    .dataframe thead th {\n",
       "        text-align: right;\n",
       "    }\n",
       "</style>\n",
       "<table border=\"1\" class=\"dataframe\">\n",
       "  <thead>\n",
       "    <tr style=\"text-align: right;\">\n",
       "      <th></th>\n",
       "      <th>rating</th>\n",
       "      <th>food_preparation_time</th>\n",
       "      <th>delivery_time</th>\n",
       "    </tr>\n",
       "  </thead>\n",
       "  <tbody>\n",
       "    <tr>\n",
       "      <th>2</th>\n",
       "      <td>5.0</td>\n",
       "      <td>23</td>\n",
       "      <td>28</td>\n",
       "    </tr>\n",
       "    <tr>\n",
       "      <th>3</th>\n",
       "      <td>3.0</td>\n",
       "      <td>25</td>\n",
       "      <td>15</td>\n",
       "    </tr>\n",
       "    <tr>\n",
       "      <th>4</th>\n",
       "      <td>4.0</td>\n",
       "      <td>25</td>\n",
       "      <td>24</td>\n",
       "    </tr>\n",
       "    <tr>\n",
       "      <th>5</th>\n",
       "      <td>3.0</td>\n",
       "      <td>20</td>\n",
       "      <td>24</td>\n",
       "    </tr>\n",
       "    <tr>\n",
       "      <th>7</th>\n",
       "      <td>3.0</td>\n",
       "      <td>33</td>\n",
       "      <td>30</td>\n",
       "    </tr>\n",
       "    <tr>\n",
       "      <th>...</th>\n",
       "      <td>...</td>\n",
       "      <td>...</td>\n",
       "      <td>...</td>\n",
       "    </tr>\n",
       "    <tr>\n",
       "      <th>1889</th>\n",
       "      <td>3.0</td>\n",
       "      <td>33</td>\n",
       "      <td>30</td>\n",
       "    </tr>\n",
       "    <tr>\n",
       "      <th>1890</th>\n",
       "      <td>5.0</td>\n",
       "      <td>20</td>\n",
       "      <td>22</td>\n",
       "    </tr>\n",
       "    <tr>\n",
       "      <th>1893</th>\n",
       "      <td>5.0</td>\n",
       "      <td>31</td>\n",
       "      <td>17</td>\n",
       "    </tr>\n",
       "    <tr>\n",
       "      <th>1894</th>\n",
       "      <td>5.0</td>\n",
       "      <td>31</td>\n",
       "      <td>19</td>\n",
       "    </tr>\n",
       "    <tr>\n",
       "      <th>1896</th>\n",
       "      <td>5.0</td>\n",
       "      <td>23</td>\n",
       "      <td>31</td>\n",
       "    </tr>\n",
       "  </tbody>\n",
       "</table>\n",
       "<p>1162 rows × 3 columns</p>\n",
       "</div>"
      ],
      "text/plain": [
       "      rating  food_preparation_time  delivery_time\n",
       "2        5.0                     23             28\n",
       "3        3.0                     25             15\n",
       "4        4.0                     25             24\n",
       "5        3.0                     20             24\n",
       "7        3.0                     33             30\n",
       "...      ...                    ...            ...\n",
       "1889     3.0                     33             30\n",
       "1890     5.0                     20             22\n",
       "1893     5.0                     31             17\n",
       "1894     5.0                     31             19\n",
       "1896     5.0                     23             31\n",
       "\n",
       "[1162 rows x 3 columns]"
      ]
     },
     "execution_count": 138,
     "metadata": {},
     "output_type": "execute_result"
    }
   ],
   "source": [
    "df_f = df_new[['rating', 'food_preparation_time', 'delivery_time']]\n",
    "\n",
    "df_f"
   ]
  },
  {
   "cell_type": "code",
   "execution_count": null,
   "metadata": {},
   "outputs": [
    {
     "data": {
      "text/html": [
       "<div>\n",
       "<style scoped>\n",
       "    .dataframe tbody tr th:only-of-type {\n",
       "        vertical-align: middle;\n",
       "    }\n",
       "\n",
       "    .dataframe tbody tr th {\n",
       "        vertical-align: top;\n",
       "    }\n",
       "\n",
       "    .dataframe thead th {\n",
       "        text-align: right;\n",
       "    }\n",
       "</style>\n",
       "<table border=\"1\" class=\"dataframe\">\n",
       "  <thead>\n",
       "    <tr style=\"text-align: right;\">\n",
       "      <th></th>\n",
       "      <th>food_preparation_time</th>\n",
       "      <th>delivery_time</th>\n",
       "    </tr>\n",
       "    <tr>\n",
       "      <th>rating</th>\n",
       "      <th></th>\n",
       "      <th></th>\n",
       "    </tr>\n",
       "  </thead>\n",
       "  <tbody>\n",
       "    <tr>\n",
       "      <th>3.0</th>\n",
       "      <td>27.430851</td>\n",
       "      <td>24.558511</td>\n",
       "    </tr>\n",
       "    <tr>\n",
       "      <th>4.0</th>\n",
       "      <td>27.396373</td>\n",
       "      <td>23.867876</td>\n",
       "    </tr>\n",
       "    <tr>\n",
       "      <th>5.0</th>\n",
       "      <td>27.355442</td>\n",
       "      <td>24.212585</td>\n",
       "    </tr>\n",
       "  </tbody>\n",
       "</table>\n",
       "</div>"
      ],
      "text/plain": [
       "        food_preparation_time  delivery_time\n",
       "rating                                      \n",
       "3.0                 27.430851      24.558511\n",
       "4.0                 27.396373      23.867876\n",
       "5.0                 27.355442      24.212585"
      ]
     },
     "execution_count": 139,
     "metadata": {},
     "output_type": "execute_result"
    }
   ],
   "source": [
    "rating_prep_time = df_f.groupby(df_f['rating']).mean()\n",
    "rating_prep_time"
   ]
  },
  {
   "cell_type": "markdown",
   "metadata": {},
   "source": [
    "**Note:**\n",
    "- There is no significant difference in average delivery and food prep time between each rating."
   ]
  },
  {
   "cell_type": "code",
   "execution_count": 140,
   "metadata": {},
   "outputs": [
    {
     "data": {
      "text/plain": [
       "<seaborn.axisgrid.FacetGrid at 0x1bbb19d82c0>"
      ]
     },
     "execution_count": 140,
     "metadata": {},
     "output_type": "execute_result"
    },
    {
     "data": {
      "image/png": "[encoded data removed]",
      "text/plain": [
       "<Figure size 500x500 with 1 Axes>"
      ]
     },
     "metadata": {},
     "output_type": "display_data"
    }
   ],
   "source": [
    "sns.lmplot(data=df_f,x='rating', y='food_preparation_time')"
   ]
  },
  {
   "cell_type": "markdown",
   "metadata": {},
   "source": [
    "**Key Takeaways:**\n",
    "- The regression line is slightly tilted downwards which indicates a small negative correlation."
   ]
  },
  {
   "cell_type": "markdown",
   "metadata": {},
   "source": [
    "Next, we're going to do a hypothesis testing and correlation analysis."
   ]
  },
  {
   "cell_type": "markdown",
   "metadata": {},
   "source": [
    "**Hypothesis:**\n",
    "- **H0**: There is no correlation between `food_preparation_time` and `rating`\n",
    "- **H1**: There is a correlation between `food_preparation_time` and `rating`"
   ]
  },
  {
   "cell_type": "code",
   "execution_count": 141,
   "metadata": {},
   "outputs": [
    {
     "name": "stdout",
     "output_type": "stream",
     "text": [
      "tau-correlation: -0.01, p-value: 0.8174202296505915\n"
     ]
    }
   ],
   "source": [
    "corr_tau, pval_k = stats.kendalltau(df_f['food_preparation_time'], df_f['rating'])\n",
    "\n",
    "print(f\"tau-correlation: {corr_tau:.2f}, p-value: {pval_k}\")"
   ]
  },
  {
   "cell_type": "markdown",
   "metadata": {},
   "source": [
    "**Conclusion:**\n",
    "- The correlation value (-0.01) indicates that there is a small negative correlation.\n",
    "- P-value (0.82) is higher than the critical value (0.05) which means that H0 is accepted."
   ]
  },
  {
   "cell_type": "markdown",
   "metadata": {},
   "source": [
    "#### **2. `cost_of_the_order` vs `rating`**"
   ]
  },
  {
   "cell_type": "code",
   "execution_count": null,
   "metadata": {},
   "outputs": [
    {
     "data": {
      "text/html": [
       "<div>\n",
       "<style scoped>\n",
       "    .dataframe tbody tr th:only-of-type {\n",
       "        vertical-align: middle;\n",
       "    }\n",
       "\n",
       "    .dataframe tbody tr th {\n",
       "        vertical-align: top;\n",
       "    }\n",
       "\n",
       "    .dataframe thead th {\n",
       "        text-align: right;\n",
       "    }\n",
       "</style>\n",
       "<table border=\"1\" class=\"dataframe\">\n",
       "  <thead>\n",
       "    <tr style=\"text-align: right;\">\n",
       "      <th></th>\n",
       "      <th>cost_of_the_order</th>\n",
       "      <th>rating</th>\n",
       "    </tr>\n",
       "  </thead>\n",
       "  <tbody>\n",
       "    <tr>\n",
       "      <th>2</th>\n",
       "      <td>12.23</td>\n",
       "      <td>5.0</td>\n",
       "    </tr>\n",
       "    <tr>\n",
       "      <th>3</th>\n",
       "      <td>29.20</td>\n",
       "      <td>3.0</td>\n",
       "    </tr>\n",
       "    <tr>\n",
       "      <th>4</th>\n",
       "      <td>11.59</td>\n",
       "      <td>4.0</td>\n",
       "    </tr>\n",
       "    <tr>\n",
       "      <th>5</th>\n",
       "      <td>25.22</td>\n",
       "      <td>3.0</td>\n",
       "    </tr>\n",
       "    <tr>\n",
       "      <th>7</th>\n",
       "      <td>5.97</td>\n",
       "      <td>3.0</td>\n",
       "    </tr>\n",
       "    <tr>\n",
       "      <th>...</th>\n",
       "      <td>...</td>\n",
       "      <td>...</td>\n",
       "    </tr>\n",
       "    <tr>\n",
       "      <th>1889</th>\n",
       "      <td>8.68</td>\n",
       "      <td>3.0</td>\n",
       "    </tr>\n",
       "    <tr>\n",
       "      <th>1890</th>\n",
       "      <td>15.67</td>\n",
       "      <td>5.0</td>\n",
       "    </tr>\n",
       "    <tr>\n",
       "      <th>1893</th>\n",
       "      <td>22.31</td>\n",
       "      <td>5.0</td>\n",
       "    </tr>\n",
       "    <tr>\n",
       "      <th>1894</th>\n",
       "      <td>12.18</td>\n",
       "      <td>5.0</td>\n",
       "    </tr>\n",
       "    <tr>\n",
       "      <th>1896</th>\n",
       "      <td>12.18</td>\n",
       "      <td>5.0</td>\n",
       "    </tr>\n",
       "  </tbody>\n",
       "</table>\n",
       "<p>1162 rows × 2 columns</p>\n",
       "</div>"
      ],
      "text/plain": [
       "      cost_of_the_order  rating\n",
       "2                 12.23     5.0\n",
       "3                 29.20     3.0\n",
       "4                 11.59     4.0\n",
       "5                 25.22     3.0\n",
       "7                  5.97     3.0\n",
       "...                 ...     ...\n",
       "1889               8.68     3.0\n",
       "1890              15.67     5.0\n",
       "1893              22.31     5.0\n",
       "1894              12.18     5.0\n",
       "1896              12.18     5.0\n",
       "\n",
       "[1162 rows x 2 columns]"
      ]
     },
     "execution_count": 142,
     "metadata": {},
     "output_type": "execute_result"
    }
   ],
   "source": [
    "df_g = df_new[['cost_of_the_order', 'rating']] \n",
    "\n",
    "df_g "
   ]
  },
  {
   "cell_type": "code",
   "execution_count": null,
   "metadata": {},
   "outputs": [
    {
     "data": {
      "text/html": [
       "<div>\n",
       "<style scoped>\n",
       "    .dataframe tbody tr th:only-of-type {\n",
       "        vertical-align: middle;\n",
       "    }\n",
       "\n",
       "    .dataframe tbody tr th {\n",
       "        vertical-align: top;\n",
       "    }\n",
       "\n",
       "    .dataframe thead th {\n",
       "        text-align: right;\n",
       "    }\n",
       "</style>\n",
       "<table border=\"1\" class=\"dataframe\">\n",
       "  <thead>\n",
       "    <tr style=\"text-align: right;\">\n",
       "      <th></th>\n",
       "      <th>cost_of_the_order</th>\n",
       "    </tr>\n",
       "    <tr>\n",
       "      <th>rating</th>\n",
       "      <th></th>\n",
       "    </tr>\n",
       "  </thead>\n",
       "  <tbody>\n",
       "    <tr>\n",
       "      <th>3.0</th>\n",
       "      <td>16.223351</td>\n",
       "    </tr>\n",
       "    <tr>\n",
       "      <th>4.0</th>\n",
       "      <td>16.710337</td>\n",
       "    </tr>\n",
       "    <tr>\n",
       "      <th>5.0</th>\n",
       "      <td>16.965697</td>\n",
       "    </tr>\n",
       "  </tbody>\n",
       "</table>\n",
       "</div>"
      ],
      "text/plain": [
       "        cost_of_the_order\n",
       "rating                   \n",
       "3.0             16.223351\n",
       "4.0             16.710337\n",
       "5.0             16.965697"
      ]
     },
     "execution_count": 143,
     "metadata": {},
     "output_type": "execute_result"
    }
   ],
   "source": [
    "rating_harga = df_g.groupby(df_g['rating']).mean()\n",
    "rating_harga"
   ]
  },
  {
   "cell_type": "markdown",
   "metadata": {},
   "source": [
    "**Note:**\n",
    "- There is no significant difference in cost between the ratings."
   ]
  },
  {
   "cell_type": "code",
   "execution_count": 144,
   "metadata": {},
   "outputs": [
    {
     "data": {
      "text/plain": [
       "<seaborn.axisgrid.FacetGrid at 0x1bbb4e5be30>"
      ]
     },
     "execution_count": 144,
     "metadata": {},
     "output_type": "execute_result"
    },
    {
     "data": {
      "image/png": "[encoded data removed]",
      "text/plain": [
       "<Figure size 500x500 with 1 Axes>"
      ]
     },
     "metadata": {},
     "output_type": "display_data"
    }
   ],
   "source": [
    "sns.lmplot(data=df_g,x='rating', y='cost_of_the_order')"
   ]
  },
  {
   "cell_type": "markdown",
   "metadata": {},
   "source": [
    "**Key Takeaways:**\n",
    "- Based on the scatter chart, the distribution of cost between the ratings is quite balanced.\n",
    "- The majority cost of most orders are below $20.\n",
    "- The regression line is slightly tilted upwards which indicates a positive correlation."
   ]
  },
  {
   "cell_type": "markdown",
   "metadata": {},
   "source": [
    "Next, we're going to do a hypothesis testing and correlation analysis."
   ]
  },
  {
   "cell_type": "markdown",
   "metadata": {},
   "source": [
    "**Hypothesis:**\n",
    "- **H0**: There is no correlation between `cost_of_the_order` and `rating`\n",
    "- **H1**: There is a correlation between `cost_of_the_order` and `rating`"
   ]
  },
  {
   "cell_type": "code",
   "execution_count": 145,
   "metadata": {},
   "outputs": [
    {
     "name": "stdout",
     "output_type": "stream",
     "text": [
      "tau-correlation: 0.03, p-value: 0.19202765076620154\n"
     ]
    }
   ],
   "source": [
    "corr_tau, pval_k = stats.kendalltau(df_g['cost_of_the_order'], df_g['rating'])\n",
    "\n",
    "print(f\"tau-correlation: {corr_tau:.2f}, p-value: {pval_k}\")"
   ]
  },
  {
   "cell_type": "markdown",
   "metadata": {},
   "source": [
    "**Conclusion:**\n",
    "- The correlation value (0.03) indicates a relatively weak positive correlation.\n",
    "- P-value (0.19) is higher than the critical value (0.05) which means that H0 is accepted."
   ]
  },
  {
   "cell_type": "markdown",
   "metadata": {},
   "source": [
    "#### **3. `cuisine_type` vs `rating`**"
   ]
  },
  {
   "cell_type": "code",
   "execution_count": null,
   "metadata": {},
   "outputs": [
    {
     "data": {
      "text/html": [
       "<div>\n",
       "<style scoped>\n",
       "    .dataframe tbody tr th:only-of-type {\n",
       "        vertical-align: middle;\n",
       "    }\n",
       "\n",
       "    .dataframe tbody tr th {\n",
       "        vertical-align: top;\n",
       "    }\n",
       "\n",
       "    .dataframe thead th {\n",
       "        text-align: right;\n",
       "    }\n",
       "</style>\n",
       "<table border=\"1\" class=\"dataframe\">\n",
       "  <thead>\n",
       "    <tr style=\"text-align: right;\">\n",
       "      <th></th>\n",
       "      <th>cuisine_type</th>\n",
       "      <th>rating</th>\n",
       "    </tr>\n",
       "  </thead>\n",
       "  <tbody>\n",
       "    <tr>\n",
       "      <th>2</th>\n",
       "      <td>Mexican</td>\n",
       "      <td>5.0</td>\n",
       "    </tr>\n",
       "    <tr>\n",
       "      <th>3</th>\n",
       "      <td>American</td>\n",
       "      <td>3.0</td>\n",
       "    </tr>\n",
       "    <tr>\n",
       "      <th>4</th>\n",
       "      <td>American</td>\n",
       "      <td>4.0</td>\n",
       "    </tr>\n",
       "    <tr>\n",
       "      <th>5</th>\n",
       "      <td>Indian</td>\n",
       "      <td>3.0</td>\n",
       "    </tr>\n",
       "    <tr>\n",
       "      <th>7</th>\n",
       "      <td>Mediterranean</td>\n",
       "      <td>3.0</td>\n",
       "    </tr>\n",
       "    <tr>\n",
       "      <th>...</th>\n",
       "      <td>...</td>\n",
       "      <td>...</td>\n",
       "    </tr>\n",
       "    <tr>\n",
       "      <th>1889</th>\n",
       "      <td>Chinese</td>\n",
       "      <td>3.0</td>\n",
       "    </tr>\n",
       "    <tr>\n",
       "      <th>1890</th>\n",
       "      <td>Japanese</td>\n",
       "      <td>5.0</td>\n",
       "    </tr>\n",
       "    <tr>\n",
       "      <th>1893</th>\n",
       "      <td>Mexican</td>\n",
       "      <td>5.0</td>\n",
       "    </tr>\n",
       "    <tr>\n",
       "      <th>1894</th>\n",
       "      <td>American</td>\n",
       "      <td>5.0</td>\n",
       "    </tr>\n",
       "    <tr>\n",
       "      <th>1896</th>\n",
       "      <td>Mediterranean</td>\n",
       "      <td>5.0</td>\n",
       "    </tr>\n",
       "  </tbody>\n",
       "</table>\n",
       "<p>1162 rows × 2 columns</p>\n",
       "</div>"
      ],
      "text/plain": [
       "       cuisine_type  rating\n",
       "2           Mexican     5.0\n",
       "3          American     3.0\n",
       "4          American     4.0\n",
       "5            Indian     3.0\n",
       "7     Mediterranean     3.0\n",
       "...             ...     ...\n",
       "1889        Chinese     3.0\n",
       "1890       Japanese     5.0\n",
       "1893        Mexican     5.0\n",
       "1894       American     5.0\n",
       "1896  Mediterranean     5.0\n",
       "\n",
       "[1162 rows x 2 columns]"
      ]
     },
     "execution_count": 146,
     "metadata": {},
     "output_type": "execute_result"
    }
   ],
   "source": [
    "df_h = df_new[['cuisine_type', 'rating']] \n",
    "\n",
    "df_h "
   ]
  },
  {
   "cell_type": "markdown",
   "metadata": {},
   "source": [
    "Next we're going to do hypothesis testing and correlation analysis using Chi-Squared method since both features are categorical."
   ]
  },
  {
   "cell_type": "markdown",
   "metadata": {},
   "source": [
    "**Hypothesis:**\n",
    "- **H0**: There is no correlation between `cuisine_type` and `rating`\n",
    "- **H1**: There is a correlation between `cuisine_type` and `rating`"
   ]
  },
  {
   "cell_type": "code",
   "execution_count": 147,
   "metadata": {},
   "outputs": [
    {
     "data": {
      "text/html": [
       "<div>\n",
       "<style scoped>\n",
       "    .dataframe tbody tr th:only-of-type {\n",
       "        vertical-align: middle;\n",
       "    }\n",
       "\n",
       "    .dataframe tbody tr th {\n",
       "        vertical-align: top;\n",
       "    }\n",
       "\n",
       "    .dataframe thead th {\n",
       "        text-align: right;\n",
       "    }\n",
       "</style>\n",
       "<table border=\"1\" class=\"dataframe\">\n",
       "  <thead>\n",
       "    <tr style=\"text-align: right;\">\n",
       "      <th>rating</th>\n",
       "      <th>3.0</th>\n",
       "      <th>4.0</th>\n",
       "      <th>5.0</th>\n",
       "    </tr>\n",
       "    <tr>\n",
       "      <th>cuisine_type</th>\n",
       "      <th></th>\n",
       "      <th></th>\n",
       "      <th></th>\n",
       "    </tr>\n",
       "  </thead>\n",
       "  <tbody>\n",
       "    <tr>\n",
       "      <th>American</th>\n",
       "      <td>64</td>\n",
       "      <td>130</td>\n",
       "      <td>174</td>\n",
       "    </tr>\n",
       "    <tr>\n",
       "      <th>Chinese</th>\n",
       "      <td>24</td>\n",
       "      <td>40</td>\n",
       "      <td>69</td>\n",
       "    </tr>\n",
       "    <tr>\n",
       "      <th>French</th>\n",
       "      <td>2</td>\n",
       "      <td>3</td>\n",
       "      <td>5</td>\n",
       "    </tr>\n",
       "    <tr>\n",
       "      <th>Indian</th>\n",
       "      <td>5</td>\n",
       "      <td>13</td>\n",
       "      <td>32</td>\n",
       "    </tr>\n",
       "    <tr>\n",
       "      <th>Italian</th>\n",
       "      <td>28</td>\n",
       "      <td>54</td>\n",
       "      <td>90</td>\n",
       "    </tr>\n",
       "    <tr>\n",
       "      <th>Japanese</th>\n",
       "      <td>40</td>\n",
       "      <td>91</td>\n",
       "      <td>142</td>\n",
       "    </tr>\n",
       "    <tr>\n",
       "      <th>Korean</th>\n",
       "      <td>2</td>\n",
       "      <td>4</td>\n",
       "      <td>3</td>\n",
       "    </tr>\n",
       "    <tr>\n",
       "      <th>Mediterranean</th>\n",
       "      <td>9</td>\n",
       "      <td>7</td>\n",
       "      <td>16</td>\n",
       "    </tr>\n",
       "    <tr>\n",
       "      <th>Mexican</th>\n",
       "      <td>6</td>\n",
       "      <td>16</td>\n",
       "      <td>26</td>\n",
       "    </tr>\n",
       "    <tr>\n",
       "      <th>Middle Eastern</th>\n",
       "      <td>5</td>\n",
       "      <td>16</td>\n",
       "      <td>13</td>\n",
       "    </tr>\n",
       "    <tr>\n",
       "      <th>Southern</th>\n",
       "      <td>1</td>\n",
       "      <td>7</td>\n",
       "      <td>5</td>\n",
       "    </tr>\n",
       "    <tr>\n",
       "      <th>Spanish</th>\n",
       "      <td>0</td>\n",
       "      <td>1</td>\n",
       "      <td>5</td>\n",
       "    </tr>\n",
       "    <tr>\n",
       "      <th>Thai</th>\n",
       "      <td>0</td>\n",
       "      <td>3</td>\n",
       "      <td>6</td>\n",
       "    </tr>\n",
       "    <tr>\n",
       "      <th>Vietnamese</th>\n",
       "      <td>2</td>\n",
       "      <td>1</td>\n",
       "      <td>2</td>\n",
       "    </tr>\n",
       "  </tbody>\n",
       "</table>\n",
       "</div>"
      ],
      "text/plain": [
       "rating          3.0  4.0  5.0\n",
       "cuisine_type                 \n",
       "American         64  130  174\n",
       "Chinese          24   40   69\n",
       "French            2    3    5\n",
       "Indian            5   13   32\n",
       "Italian          28   54   90\n",
       "Japanese         40   91  142\n",
       "Korean            2    4    3\n",
       "Mediterranean     9    7   16\n",
       "Mexican           6   16   26\n",
       "Middle Eastern    5   16   13\n",
       "Southern          1    7    5\n",
       "Spanish           0    1    5\n",
       "Thai              0    3    6\n",
       "Vietnamese        2    1    2"
      ]
     },
     "execution_count": 147,
     "metadata": {},
     "output_type": "execute_result"
    }
   ],
   "source": [
    "#Contingency Table\n",
    "contingency_table = pd.crosstab(df_h['cuisine_type'],df_h['rating'])\n",
    "contingency_table"
   ]
  },
  {
   "cell_type": "code",
   "execution_count": 148,
   "metadata": {},
   "outputs": [
    {
     "name": "stdout",
     "output_type": "stream",
     "text": [
      "P-value: 0.5141366637771746\n"
     ]
    }
   ],
   "source": [
    "res = stats.chi2_contingency(contingency_table)\n",
    "print(\"P-value:\",res.pvalue) "
   ]
  },
  {
   "cell_type": "markdown",
   "metadata": {},
   "source": [
    "**Kesimpulan:**\n",
    "\n",
    "- Berdasarkan perhitungan di atas didapatkan nilai ***p-value* (0.51)** lebih besar dari *critical value* (0.05). Dengan demikian, **H0 diterima**.\n",
    "- Kesimpulan akhirnya adalah **tidak ada korelasi** antara **`cuisine_type`** dengan **`rating`**."
   ]
  },
  {
   "cell_type": "markdown",
   "metadata": {},
   "source": [
    "**Conclusion:**\n",
    "- P-value (0.51) is higher than the critical value (0.05) which means that H0 is accepted.\n",
    "- There is no correlation between the two features."
   ]
  },
  {
   "cell_type": "markdown",
   "metadata": {},
   "source": [
    "## **6. Conclusion**"
   ]
  },
  {
   "cell_type": "markdown",
   "metadata": {},
   "source": [
    "### **Insight Summary**"
   ]
  },
  {
   "cell_type": "markdown",
   "metadata": {},
   "source": [
    "**Problem Statement**\n",
    "\n",
    "1. The rating column has no correlation with delivery_time.\n",
    "    - Since the two variables are not correlated, improving the rating cannot be achieved by focusing only on improving delivery time. Many other variables need to be considered.\n",
    "\n",
    "**Regarding Delivery Time**\n",
    "\n",
    "1. Vietnamese restaurants have the longest average delivery time (27.2 minutes), while Korean restaurants have the fastest average delivery time (21.11 minutes).\n",
    "2. The order_id column has no correlation with delivery_time.\n",
    "    - The number of orders received by a restaurant does not correlate with delivery time. This is evident from the four types of restaurants that dominate in terms of order volume — American, Japanese, Chinese, and Italian — all of which received more than 100 orders. However, the longest delivery time is held by Vietnamese restaurants, which only received 5 orders.\n",
    "3. The food_preparation_time column has no correlation with delivery_time.\n",
    "    - These two variables are rightly uncorrelated since food preparation time is the responsibility of each individual restaurant.\n",
    "4. The number of orders during weekends (822) is higher than during weekdays (340). However, the average delivery time on weekends (22.44 minutes) is faster than on weekdays (28.3 minutes). Possible reasons for this include:\n",
    "    - More delivery fleet is deployed during weekends compared to weekdays.\n",
    "    - Multiple orders from the same restaurant may occur due to higher demand on weekends, allowing delivery agents to carry more than one order at a time.\n",
    "\n",
    "**Regarding Rating**\n",
    "\n",
    "1. The food_preparation_time column has no correlation with the rating column.\n",
    "    - Since the duration of food preparation does not affect rating, this should not be an issue as it is beyond the control of Foodhub as the delivery service provider.\n",
    "2. The price column has no correlation with rating.\n",
    "    - It is assumed that the order price includes both the delivery fee and the food price. If the price paid by the consumer does not correlate with rating, it can be concluded that Foodhub’s customers have a low level of price sensitivity.\n",
    "3. The cuisine_type column has no correlation with rating.\n",
    "    - If the type of restaurant does not guarantee a higher rating, it can be said that the tastes of Foodhub’s consumers are highly diverse."
   ]
  },
  {
   "cell_type": "markdown",
   "metadata": {},
   "source": [
    "### **Recommendation**\n",
    "\n",
    "1. Management between weekdays and weekends.\n",
    "    - Delivery time on weekdays can still be improved by increasing the number of delivery personnel, especially in areas that are likely to be busy during weekdays, such as office districts. Another strategy could be offering limited-time discount vouchers to encourage consumers to place orders during typically low-demand hours. Since weekdays make up a large portion of the week (5 out of 7 days), this potential should not be overlooked.\n",
    "    - Currently, weekends can be considered prime time for Foodhub. Therefore, it is important to maintain this momentum to avoid losing potential revenue. This can be done by ensuring adequate delivery fleet availability. In fact, the solutions for weekdays can also be leveraged during weekends.\n",
    "\n",
    "2. Build relationships with \"pareto\" restaurants.\n",
    "    - There are four types of restaurants that dominate in terms of the number of orders: American, Japanese, Chinese, and Italian. To sustain transactions from these restaurant types, collaborations can be established. This could include running promotional campaigns or integrating systems that facilitate smoother order processing between the restaurants and Foodhub’s delivery fleet.\n",
    "\n"
   ]
  }
 ],
 "metadata": {
  "kernelspec": {
   "display_name": "base",
   "language": "python",
   "name": "python3"
  },
  "language_info": {
   "codemirror_mode": {
    "name": "ipython",
    "version": 3
   },
   "file_extension": ".py",
   "mimetype": "text/x-python",
   "name": "python",
   "nbconvert_exporter": "python",
   "pygments_lexer": "ipython3",
   "version": "3.12.7"
  }
 },
 "nbformat": 4,
 "nbformat_minor": 2
}
